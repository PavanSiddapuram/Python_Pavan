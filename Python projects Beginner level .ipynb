{
 "cells": [
  {
   "cell_type": "markdown",
   "id": "b7a4a09c",
   "metadata": {},
   "source": [
    "# 1. Email Slicer \n"
   ]
  },
  {
   "cell_type": "code",
   "execution_count": 6,
   "id": "c3c5db88",
   "metadata": {},
   "outputs": [
    {
     "name": "stdout",
     "output_type": "stream",
     "text": [
      "Enter your email :pavansiddapuram9441@gmail.com\n",
      "Your username is pavansiddapuram9441 & domain is gmail.com\n"
     ]
    }
   ],
   "source": [
    "email = input(\"Enter your email :\")\n",
    "username =email[:email.index('@')]\n",
    "domain = email[email.index('@') + 1:]\n",
    "\n",
    "print(f\"Your username is {username} & domain is {domain}\")"
   ]
  },
  {
   "cell_type": "code",
   "execution_count": 7,
   "id": "f78fbe10",
   "metadata": {},
   "outputs": [
    {
     "ename": "ModuleNotFoundError",
     "evalue": "No module named 'chatterbot'",
     "output_type": "error",
     "traceback": [
      "\u001b[1;31m---------------------------------------------------------------------------\u001b[0m",
      "\u001b[1;31mModuleNotFoundError\u001b[0m                       Traceback (most recent call last)",
      "Cell \u001b[1;32mIn[7], line 1\u001b[0m\n\u001b[1;32m----> 1\u001b[0m \u001b[38;5;28;01mfrom\u001b[39;00m \u001b[38;5;21;01mchatterbot\u001b[39;00m \u001b[38;5;28;01mimport\u001b[39;00m ChatBot\n\u001b[0;32m      2\u001b[0m \u001b[38;5;28;01mfrom\u001b[39;00m \u001b[38;5;21;01mchatterbot\u001b[39;00m\u001b[38;5;21;01m.\u001b[39;00m\u001b[38;5;21;01mtrainers\u001b[39;00m \u001b[38;5;28;01mimport\u001b[39;00m ListTrainer\n\u001b[0;32m      4\u001b[0m \u001b[38;5;66;03m# Create a new chatbot\u001b[39;00m\n",
      "\u001b[1;31mModuleNotFoundError\u001b[0m: No module named 'chatterbot'"
     ]
    }
   ],
   "source": [
    "from chatterbot import ChatBot\n",
    "from chatterbot.trainers import ListTrainer\n",
    "\n",
    "# Create a new chatbot\n",
    "chatbot = ChatBot('Bing')\n",
    "\n",
    "# Create a new trainer for the chatbot\n",
    "trainer = ListTrainer(chatbot)\n",
    "\n",
    "# Train the chatbot based on a list of conversation\n",
    "trainer.train([\n",
    "    \"Hi\",\n",
    "    \"Hello\",\n",
    "    \"How are you?\",\n",
    "    \"I am good.\",\n",
    "    \"That is good to hear.\",\n",
    "    \"What is your name?\",\n",
    "    \"My name is Bing.\",\n",
    "    \"How can I help you?\",\n",
    "    \"You can ask me anything.\"\n",
    "])\n",
    "\n",
    "# Get a response from the chatbot\n",
    "response = chatbot.get_response(\"Good morning!\")\n",
    "print(response)\n"
   ]
  },
  {
   "cell_type": "code",
   "execution_count": null,
   "id": "57fad08d",
   "metadata": {},
   "outputs": [],
   "source": []
  },
  {
   "cell_type": "code",
   "execution_count": null,
   "id": "90da1f14",
   "metadata": {},
   "outputs": [],
   "source": []
  }
 ],
 "metadata": {
  "kernelspec": {
   "display_name": "Python 3 (ipykernel)",
   "language": "python",
   "name": "python3"
  },
  "language_info": {
   "codemirror_mode": {
    "name": "ipython",
    "version": 3
   },
   "file_extension": ".py",
   "mimetype": "text/x-python",
   "name": "python",
   "nbconvert_exporter": "python",
   "pygments_lexer": "ipython3",
   "version": "3.11.5"
  }
 },
 "nbformat": 4,
 "nbformat_minor": 5
}
