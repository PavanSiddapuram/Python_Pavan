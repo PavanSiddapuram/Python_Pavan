{
 "cells": [
  {
   "cell_type": "code",
   "execution_count": 1,
   "id": "dc17a8bd",
   "metadata": {},
   "outputs": [
    {
     "name": "stdout",
     "output_type": "stream",
     "text": [
      "('Happy', 'Dussera')\n"
     ]
    }
   ],
   "source": [
    "#tuple\n",
    "tuple1=(\"Happy\",\"Dussera\")\n",
    "print(tuple1)"
   ]
  },
  {
   "cell_type": "code",
   "execution_count": 2,
   "id": "64b30c27",
   "metadata": {},
   "outputs": [
    {
     "name": "stdout",
     "output_type": "stream",
     "text": [
      "<class 'tuple'>\n",
      "<class 'str'>\n"
     ]
    }
   ],
   "source": [
    "#tuple withoout \",\"\n",
    "\n",
    "tuple1=(\"Mytraz\",)\n",
    "print(type(tuple1))\n",
    "\n",
    "tuple2=(\"skills\")\n",
    "print(type(tuple2))"
   ]
  },
  {
   "cell_type": "code",
   "execution_count": 4,
   "id": "b34e7eaf",
   "metadata": {},
   "outputs": [
    {
     "name": "stdout",
     "output_type": "stream",
     "text": [
      "('aa', 'bb', 'cc')\n"
     ]
    }
   ],
   "source": [
    "#tuple_constructor\n",
    "tuple_constructor=tuple(('aa','bb','cc'))\n",
    "print(tuple_constructor)"
   ]
  },
  {
   "cell_type": "code",
   "execution_count": 15,
   "id": "7183c544",
   "metadata": {},
   "outputs": [
    {
     "name": "stdout",
     "output_type": "stream",
     "text": [
      "3\n",
      "5\n",
      "(1, 2, 3, 4, 3, 2)\n"
     ]
    },
    {
     "ename": "TypeError",
     "evalue": "'tuple' object does not support item assignment",
     "output_type": "error",
     "traceback": [
      "\u001b[1;31m---------------------------------------------------------------------------\u001b[0m",
      "\u001b[1;31mTypeError\u001b[0m                                 Traceback (most recent call last)",
      "Cell \u001b[1;32mIn[15], line 7\u001b[0m\n\u001b[0;32m      5\u001b[0m my_tuple \u001b[38;5;241m=\u001b[39m(\u001b[38;5;241m1\u001b[39m, \u001b[38;5;241m2\u001b[39m, \u001b[38;5;241m3\u001b[39m, \u001b[38;5;241m4\u001b[39m, \u001b[38;5;241m3\u001b[39m, \u001b[38;5;241m2\u001b[39m)\n\u001b[0;32m      6\u001b[0m \u001b[38;5;28mprint\u001b[39m(my_tuple)\n\u001b[1;32m----> 7\u001b[0m my_tuple[\u001b[38;5;241m1\u001b[39m] \u001b[38;5;241m=\u001b[39m \u001b[38;5;241m97\u001b[39m\n\u001b[0;32m      8\u001b[0m \u001b[38;5;28mprint\u001b[39m(my_tuple)\n",
      "\u001b[1;31mTypeError\u001b[0m: 'tuple' object does not support item assignment"
     ]
    }
   ],
   "source": [
    "#Immutable in tuples\n",
    "my_tuple=(1, 2, 3, 4, 5)\n",
    "print(my_tuple[2])\n",
    "print(my_tuple[4])\n",
    "my_tuple =(1, 2, 3, 4, 3, 2)\n",
    "print(my_tuple)\n",
    "my_tuple[1] = 97\n",
    "print(my_tuple)\n"
   ]
  },
  {
   "cell_type": "code",
   "execution_count": 16,
   "id": "6b1a7e79",
   "metadata": {},
   "outputs": [
    {
     "name": "stdout",
     "output_type": "stream",
     "text": [
      "1\n",
      "abc\n"
     ]
    }
   ],
   "source": [
    "#Acessing values in tuples\n",
    "S1=(1, 2, 3, 'abc',4, 5)\n",
    "print(S1[0])\n",
    "print(S1[-3])"
   ]
  },
  {
   "cell_type": "code",
   "execution_count": 17,
   "id": "68303044",
   "metadata": {},
   "outputs": [
    {
     "name": "stdout",
     "output_type": "stream",
     "text": [
      "(1, 2, 3, 4, 'abc', 'xyz')\n"
     ]
    }
   ],
   "source": [
    "#Concating 2 tuples\n",
    "T1=(1, 2, 3, 4)\n",
    "T2=(\"abc\",\"xyz\")\n",
    "print(T1 + T2)"
   ]
  },
  {
   "cell_type": "code",
   "execution_count": 18,
   "id": "7aed4609",
   "metadata": {},
   "outputs": [
    {
     "name": "stdout",
     "output_type": "stream",
     "text": [
      "((10, 11, 12), ('A', 'B', 'c'))\n"
     ]
    }
   ],
   "source": [
    "#creating nested tuples\n",
    "T1=(10,11,12)\n",
    "T2=('A','B','c')\n",
    "T3=(T1,T2)\n",
    "print(T3)"
   ]
  },
  {
   "cell_type": "code",
   "execution_count": 19,
   "id": "09b279f1",
   "metadata": {},
   "outputs": [
    {
     "name": "stdout",
     "output_type": "stream",
     "text": [
      "('Hey tuple', 'Hey tuple', 'Hey tuple', 'Hey tuple', 'Hey tuple')\n"
     ]
    }
   ],
   "source": [
    "#tuple with repetition\n",
    "T1=('Hey tuple',)*5\n",
    "print(T1)"
   ]
  },
  {
   "cell_type": "code",
   "execution_count": 21,
   "id": "d5e720ed",
   "metadata": {},
   "outputs": [
    {
     "name": "stdout",
     "output_type": "stream",
     "text": [
      "(2, 3, 4, 5)\n",
      "(5, 4, 3, 2, 1, 0)\n",
      "(3,)\n",
      "(5, 0)\n"
     ]
    }
   ],
   "source": [
    "#code to test slicing\n",
    "T1=(0, 1, 2, 3, 4, 5)\n",
    "print(T1[2:])\n",
    "print(T1[::-1])\n",
    "print(T1[3:4])\n",
    "print(T1[::-5])"
   ]
  },
  {
   "cell_type": "code",
   "execution_count": 23,
   "id": "0cecdb9a",
   "metadata": {},
   "outputs": [
    {
     "ename": "NameError",
     "evalue": "name 'tuple1' is not defined",
     "output_type": "error",
     "traceback": [
      "\u001b[1;31m---------------------------------------------------------------------------\u001b[0m",
      "\u001b[1;31mNameError\u001b[0m                                 Traceback (most recent call last)",
      "Cell \u001b[1;32mIn[23], line 5\u001b[0m\n\u001b[0;32m      2\u001b[0m tuple1 \u001b[38;5;241m=\u001b[39m ( \u001b[38;5;241m0\u001b[39m, \u001b[38;5;241m1\u001b[39m)\n\u001b[0;32m      4\u001b[0m \u001b[38;5;28;01mdel\u001b[39;00m tuple1\n\u001b[1;32m----> 5\u001b[0m \u001b[38;5;28mprint\u001b[39m(tuple1)\n",
      "\u001b[1;31mNameError\u001b[0m: name 'tuple1' is not defined"
     ]
    }
   ],
   "source": [
    "#deleting a tuple\n",
    "tuple1 = ( 0, 1)\n",
    " \n",
    "del tuple1\n",
    "print(tuple1)"
   ]
  },
  {
   "cell_type": "code",
   "execution_count": 25,
   "id": "cc17fb4a",
   "metadata": {},
   "outputs": [
    {
     "name": "stdout",
     "output_type": "stream",
     "text": [
      "3\n"
     ]
    }
   ],
   "source": [
    "#printing the length of a tuple\n",
    "tuple2=(\"hi\",4,\"Python\")\n",
    "print(len(tuple2))"
   ]
  },
  {
   "cell_type": "code",
   "execution_count": 26,
   "id": "94339667",
   "metadata": {},
   "outputs": [
    {
     "name": "stdout",
     "output_type": "stream",
     "text": [
      "('Immutable', 10, True)\n"
     ]
    }
   ],
   "source": [
    "#tuple with  different data types\n",
    "tuple=(\"Immutable\",10,True)\n",
    "print(tuple)\n"
   ]
  },
  {
   "cell_type": "code",
   "execution_count": 33,
   "id": "dba1b438",
   "metadata": {
    "scrolled": true
   },
   "outputs": [
    {
     "ename": "TypeError",
     "evalue": "'tuple' object is not callable",
     "output_type": "error",
     "traceback": [
      "\u001b[1;31m---------------------------------------------------------------------------\u001b[0m",
      "\u001b[1;31mTypeError\u001b[0m                                 Traceback (most recent call last)",
      "Cell \u001b[1;32mIn[33], line 5\u001b[0m\n\u001b[0;32m      1\u001b[0m \u001b[38;5;66;03m#converting a list and a string into a data type\u001b[39;00m\n\u001b[0;32m      3\u001b[0m list1 \u001b[38;5;241m=\u001b[39m [\u001b[38;5;241m0\u001b[39m, \u001b[38;5;241m1\u001b[39m, \u001b[38;5;241m2\u001b[39m]\n\u001b[1;32m----> 5\u001b[0m \u001b[38;5;28mprint\u001b[39m(\u001b[38;5;28mtuple\u001b[39m(list1))\n\u001b[0;32m      8\u001b[0m str1\u001b[38;5;241m=\u001b[39m\u001b[38;5;124m\"\u001b[39m\u001b[38;5;124mPython\u001b[39m\u001b[38;5;124m\"\u001b[39m\n\u001b[0;32m      9\u001b[0m \u001b[38;5;28mprint\u001b[39m(\u001b[38;5;28mtuple\u001b[39m(str1))\n",
      "\u001b[1;31mTypeError\u001b[0m: 'tuple' object is not callable"
     ]
    }
   ],
   "source": [
    "#converting a list and a string into a data type\n",
    "\n",
    "list1 = [0, 1, 2]\n",
    " \n",
    "print(tuple(list1))\n",
    " \n",
    "\n",
    "str1=\"Python\"\n",
    "print(tuple(str1))"
   ]
  },
  {
   "cell_type": "code",
   "execution_count": null,
   "id": "4de00e83",
   "metadata": {},
   "outputs": [],
   "source": []
  }
 ],
 "metadata": {
  "kernelspec": {
   "display_name": "Python 3 (ipykernel)",
   "language": "python",
   "name": "python3"
  },
  "language_info": {
   "codemirror_mode": {
    "name": "ipython",
    "version": 3
   },
   "file_extension": ".py",
   "mimetype": "text/x-python",
   "name": "python",
   "nbconvert_exporter": "python",
   "pygments_lexer": "ipython3",
   "version": "3.11.5"
  }
 },
 "nbformat": 4,
 "nbformat_minor": 5
}
