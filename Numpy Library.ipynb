{
 "cells": [
  {
   "cell_type": "markdown",
   "id": "6f84a09f",
   "metadata": {},
   "source": [
    "# Numpy vs lists"
   ]
  },
  {
   "cell_type": "code",
   "execution_count": 3,
   "id": "d10f3f04",
   "metadata": {},
   "outputs": [
    {
     "name": "stdout",
     "output_type": "stream",
     "text": [
      "<class 'list'>\n"
     ]
    }
   ],
   "source": [
    "#lets define a list in python.\n",
    "heights = [20,45,67,87,66]\n",
    "print(type(heights))"
   ]
  },
  {
   "cell_type": "code",
   "execution_count": 5,
   "id": "7fbe91fe",
   "metadata": {},
   "outputs": [
    {
     "name": "stdout",
     "output_type": "stream",
     "text": [
      "[50.8, 114.3, 170.18, 220.98, 167.64000000000001]\n"
     ]
    }
   ],
   "source": [
    "#multiply with 2.54\n",
    "#heights * 2\n",
    "h1=[]\n",
    "for i in heights:\n",
    "    h1.append(i*2.54)\n",
    "print(h1)\n",
    "    "
   ]
  },
  {
   "cell_type": "code",
   "execution_count": 8,
   "id": "5675a66b",
   "metadata": {},
   "outputs": [
    {
     "ename": "TypeError",
     "evalue": "can't multiply sequence by non-int of type 'float'",
     "output_type": "error",
     "traceback": [
      "\u001b[1;31m---------------------------------------------------------------------------\u001b[0m",
      "\u001b[1;31mTypeError\u001b[0m                                 Traceback (most recent call last)",
      "Cell \u001b[1;32mIn[8], line 2\u001b[0m\n\u001b[0;32m      1\u001b[0m \u001b[38;5;66;03m#try to multiple heights with scalar.\u001b[39;00m\n\u001b[1;32m----> 2\u001b[0m heights \u001b[38;5;241m*\u001b[39m \u001b[38;5;241m2.54\u001b[39m\n",
      "\u001b[1;31mTypeError\u001b[0m: can't multiply sequence by non-int of type 'float'"
     ]
    }
   ],
   "source": [
    "#try to multiple heights with scalar.\n",
    "heights * 2.54"
   ]
  },
  {
   "cell_type": "code",
   "execution_count": 9,
   "id": "656b263c",
   "metadata": {},
   "outputs": [
    {
     "name": "stdout",
     "output_type": "stream",
     "text": [
      "Defaulting to user installation because normal site-packages is not writeable\n",
      "Requirement already satisfied: numpy in c:\\programdata\\anaconda3\\lib\\site-packages (1.24.3)\n",
      "Note: you may need to restart the kernel to use updated packages.\n"
     ]
    }
   ],
   "source": [
    "pip install numpy"
   ]
  },
  {
   "cell_type": "code",
   "execution_count": 10,
   "id": "514fef06",
   "metadata": {},
   "outputs": [
    {
     "name": "stdout",
     "output_type": "stream",
     "text": [
      "[20 45 67 87 66]\n"
     ]
    }
   ],
   "source": [
    "import numpy as np\n",
    "heights =[20,45,67,87,66]\n",
    "np.heights = np.array(heights)\n",
    "print(np.heights)"
   ]
  },
  {
   "cell_type": "code",
   "execution_count": 12,
   "id": "69558a51",
   "metadata": {},
   "outputs": [
    {
     "name": "stdout",
     "output_type": "stream",
     "text": [
      "[20 45 67 87 66]\n"
     ]
    }
   ],
   "source": [
    "np.heights = np.array([20,45, 67, 87, 66])\n",
    "print(np.heights)"
   ]
  },
  {
   "cell_type": "code",
   "execution_count": 13,
   "id": "9a2f29fe",
   "metadata": {},
   "outputs": [
    {
     "data": {
      "text/plain": [
       "numpy.ndarray"
      ]
     },
     "execution_count": 13,
     "metadata": {},
     "output_type": "execute_result"
    }
   ],
   "source": [
    "type(np.heights)"
   ]
  },
  {
   "cell_type": "code",
   "execution_count": 14,
   "id": "683fd5c4",
   "metadata": {},
   "outputs": [
    {
     "data": {
      "text/plain": [
       "[50.8, 114.3, 170.18, 220.98, 167.64000000000001]"
      ]
     },
     "execution_count": 14,
     "metadata": {},
     "output_type": "execute_result"
    }
   ],
   "source": [
    "h1"
   ]
  },
  {
   "cell_type": "code",
   "execution_count": 15,
   "id": "39668116",
   "metadata": {},
   "outputs": [
    {
     "data": {
      "text/plain": [
       "array([ 50.8 , 114.3 , 170.18, 220.98, 167.64])"
      ]
     },
     "execution_count": 15,
     "metadata": {},
     "output_type": "execute_result"
    }
   ],
   "source": [
    "np.heights*2.54"
   ]
  },
  {
   "cell_type": "code",
   "execution_count": 18,
   "id": "3b33d97d",
   "metadata": {},
   "outputs": [
    {
     "name": "stdout",
     "output_type": "stream",
     "text": [
      "<class 'numpy.ndarray'>\n"
     ]
    }
   ],
   "source": [
    "#define a numpy array\n",
    "#also print the type of numpy array\n",
    "np_heights = np.array(heights)\n",
    "print(type(np_heights))"
   ]
  },
  {
   "cell_type": "code",
   "execution_count": 19,
   "id": "c84e02da",
   "metadata": {},
   "outputs": [
    {
     "data": {
      "text/plain": [
       "array([ 50.8 , 114.3 , 170.18, 220.98, 167.64])"
      ]
     },
     "execution_count": 19,
     "metadata": {},
     "output_type": "execute_result"
    }
   ],
   "source": [
    "#multiple height (numpy array) with scalar.\n",
    "np_heights*2.54"
   ]
  },
  {
   "cell_type": "markdown",
   "id": "d84d68ae",
   "metadata": {},
   "source": [
    "# Numpy comes with its own set of methods and operations"
   ]
  },
  {
   "cell_type": "code",
   "execution_count": 20,
   "id": "9e5c4bd9",
   "metadata": {},
   "outputs": [
    {
     "name": "stdout",
     "output_type": "stream",
     "text": [
      "[1, 2, 3, 4, 5]\n"
     ]
    }
   ],
   "source": [
    "#lets define two lists and perform '+' operation on that.\n",
    "list_1 = [1,2,3]\n",
    "list_2 =[4,5]\n",
    "list_3 = list_1 + list_2\n",
    "print(list_3)"
   ]
  },
  {
   "cell_type": "code",
   "execution_count": 22,
   "id": "2718c7a4",
   "metadata": {},
   "outputs": [
    {
     "data": {
      "text/plain": [
       "array([5, 7, 9])"
      ]
     },
     "execution_count": 22,
     "metadata": {},
     "output_type": "execute_result"
    }
   ],
   "source": [
    "#lets define two numpy array anfd perform '+' operation on that.\n",
    "np1 = np.array([1,2,3])\n",
    "np2 = np.array([4,5,6])\n",
    "np1 + np2\n"
   ]
  },
  {
   "cell_type": "code",
   "execution_count": 23,
   "id": "088b839c",
   "metadata": {},
   "outputs": [
    {
     "data": {
      "text/plain": [
       "numpy.ndarray"
      ]
     },
     "execution_count": 23,
     "metadata": {},
     "output_type": "execute_result"
    }
   ],
   "source": [
    "type(np1)"
   ]
  },
  {
   "cell_type": "markdown",
   "id": "7558cac5",
   "metadata": {},
   "source": [
    "# Working with N-D Arrays"
   ]
  },
  {
   "cell_type": "code",
   "execution_count": 24,
   "id": "8767f79b",
   "metadata": {},
   "outputs": [
    {
     "data": {
      "text/plain": [
       "array([20, 45, 67, 87, 66])"
      ]
     },
     "execution_count": 24,
     "metadata": {},
     "output_type": "execute_result"
    }
   ],
   "source": [
    "np_heights"
   ]
  },
  {
   "cell_type": "code",
   "execution_count": 27,
   "id": "3f4ea191",
   "metadata": {},
   "outputs": [
    {
     "data": {
      "text/plain": [
       "numpy.ndarray"
      ]
     },
     "execution_count": 27,
     "metadata": {},
     "output_type": "execute_result"
    }
   ],
   "source": [
    "type(np_heights)"
   ]
  },
  {
   "cell_type": "code",
   "execution_count": null,
   "id": "0bef2cde",
   "metadata": {},
   "outputs": [],
   "source": []
  }
 ],
 "metadata": {
  "kernelspec": {
   "display_name": "Python 3 (ipykernel)",
   "language": "python",
   "name": "python3"
  },
  "language_info": {
   "codemirror_mode": {
    "name": "ipython",
    "version": 3
   },
   "file_extension": ".py",
   "mimetype": "text/x-python",
   "name": "python",
   "nbconvert_exporter": "python",
   "pygments_lexer": "ipython3",
   "version": "3.11.5"
  }
 },
 "nbformat": 4,
 "nbformat_minor": 5
}
