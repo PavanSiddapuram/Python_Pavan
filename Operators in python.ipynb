{
 "cells": [
  {
   "cell_type": "code",
   "execution_count": 3,
   "id": "629c00f4",
   "metadata": {},
   "outputs": [
    {
     "name": "stdout",
     "output_type": "stream",
     "text": [
      "Enter the first Number:45\n",
      "Enter the second Number:56\n",
      "<class 'int'>\n",
      "<class 'int'>\n",
      "sum of two numbers: 101\n",
      "<class 'int'>\n"
     ]
    }
   ],
   "source": [
    "  #Operators in Python\n",
    "num1=int(input(\"Enter the first Number:\"))\n",
    "num2=int(input(\"Enter the second Number:\"))\n",
    "print(type(num1))\n",
    "print(type(num2))\n",
    "total=num1+num2\n",
    "print(\"sum of two numbers:\",total)\n",
    "print(type(total))\n",
    "\n",
    "\n"
   ]
  },
  {
   "cell_type": "code",
   "execution_count": 4,
   "id": "7d666810",
   "metadata": {},
   "outputs": [
    {
     "name": "stdout",
     "output_type": "stream",
     "text": [
      "12\n"
     ]
    }
   ],
   "source": [
    "#Assigning Operators\n",
    "a=5\n",
    "b=7\n",
    "c=a+b\n",
    "print(c)\n",
    "\n",
    "\n"
   ]
  },
  {
   "cell_type": "code",
   "execution_count": null,
   "id": "9a654486",
   "metadata": {},
   "outputs": [],
   "source": []
  }
 ],
 "metadata": {
  "kernelspec": {
   "display_name": "Python 3 (ipykernel)",
   "language": "python",
   "name": "python3"
  },
  "language_info": {
   "codemirror_mode": {
    "name": "ipython",
    "version": 3
   },
   "file_extension": ".py",
   "mimetype": "text/x-python",
   "name": "python",
   "nbconvert_exporter": "python",
   "pygments_lexer": "ipython3",
   "version": "3.11.5"
  }
 },
 "nbformat": 4,
 "nbformat_minor": 5
}
