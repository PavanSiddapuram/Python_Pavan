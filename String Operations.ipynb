{
 "cells": [
  {
   "cell_type": "code",
   "execution_count": 1,
   "id": "3994f3b8",
   "metadata": {},
   "outputs": [
    {
     "name": "stdout",
     "output_type": "stream",
     "text": [
      "Hello\n",
      "Hello\n",
      "l\n"
     ]
    }
   ],
   "source": [
    "#Creating a string\n",
    "str1='Hello'\n",
    "print(str1)\n",
    "str1=\"Hello\"\n",
    "print(str1)\n",
    "print(str1[2])"
   ]
  },
  {
   "cell_type": "code",
   "execution_count": 8,
   "id": "fae4e789",
   "metadata": {},
   "outputs": [
    {
     "name": "stdout",
     "output_type": "stream",
     "text": [
      "z\n",
      "W\n"
     ]
    }
   ],
   "source": [
    "#Accessing Character string \n",
    "str1=\"Welcome to Mitraz Skills\"\n",
    "print(str1[-8])\n",
    "print(str1[0])"
   ]
  },
  {
   "cell_type": "code",
   "execution_count": 32,
   "id": "69aa466c",
   "metadata": {},
   "outputs": [
    {
     "name": "stdout",
     "output_type": "stream",
     "text": [
      "Welcome\n"
     ]
    }
   ],
   "source": [
    "#String slicing\n",
    "str1=\"Welcome to Mitraz Skills\"\n",
    "print(str1[:7])"
   ]
  },
  {
   "cell_type": "code",
   "execution_count": 27,
   "id": "fdc5d262",
   "metadata": {},
   "outputs": [
    {
     "name": "stdout",
     "output_type": "stream",
     "text": [
      "dlroW olleH\n"
     ]
    }
   ],
   "source": [
    "#Reversing a string\n",
    "str1=\"Hello World\"\n",
    "print(str1[::-1])"
   ]
  },
  {
   "cell_type": "code",
   "execution_count": 1,
   "id": "e963745c",
   "metadata": {},
   "outputs": [
    {
     "name": "stdout",
     "output_type": "stream",
     "text": [
      "Book\n",
      "List: ['B', 'o', 'o', 'k']\n",
      "\n",
      "Updating character at 1st Index: \n",
      "Look\n",
      "Looking\n",
      "new string: Loandok\n",
      "king\n"
     ]
    }
   ],
   "source": [
    "#Updating string \n",
    "str1=\"Book\"\n",
    "print(str1)\n",
    "list1=list(str1)\n",
    "printStr1=\"Book\"\n",
    "print(\"List:\",list1)\n",
    "list1[0] = 'L'\n",
    "Str2 = ''.join(list1) \n",
    "print(\"\\nUpdating character at 1st Index: \") \n",
    "print(Str2) \n",
    "Str3=Str2 + 'ing'\n",
    "print(Str3)\n",
    "str4=Str2[0:2] + 'and' + Str2[2:]\n",
    "print(\"new string:\", str4)\n",
    "print(Str3[3:])\n",
    "\n"
   ]
  },
  {
   "cell_type": "code",
   "execution_count": 4,
   "id": "1a44f964",
   "metadata": {},
   "outputs": [
    {
     "name": "stdout",
     "output_type": "stream",
     "text": [
      "initial string: Welcome to mitraz\n",
      "Welcome mitraz\n"
     ]
    }
   ],
   "source": [
    "#Deleting String \n",
    "str1=\"Welcome to mitraz\"\n",
    "print(\"initial string:\",str1)\n",
    "str2=str1[0:7] +str1[-7:]\n",
    "print(str2)"
   ]
  },
  {
   "cell_type": "code",
   "execution_count": 8,
   "id": "c1f96400",
   "metadata": {},
   "outputs": [
    {
     "name": "stdout",
     "output_type": "stream",
     "text": [
      "HELLO WORLD,AA BB CC\n",
      "hello world,aa bb cc\n",
      "with space: Hello\n",
      "after removing Space: Hello\n",
      "hELLo wORLd,aA Bb cC\n",
      "['hELLo wORLd,aA Bb cC']\n",
      "hELLo wORLd,aA Bb cC\n",
      "old string: hELLo wORLd,aA Bb cC\n",
      "new string: hELLo wORLd,welcome\n"
     ]
    }
   ],
   "source": [
    "#Modify Strings\n",
    "#Upper() , Lower() , Remove whitespace - strip() , replace() , split()\n",
    "str1=\"hELLo wORLd,aA Bb cC\"\n",
    "print(str1.upper())\n",
    "print(str1.lower())\n",
    "a=\"Hello\"\n",
    "print(\"with space:\",a)\n",
    "print(\"after removing Space:\",a.strip())\n",
    "print(str1)\n",
    "b=str1.split(\" ,\")\n",
    "print(b)\n",
    "print(b[0])\n",
    "\n",
    "\n",
    "x=str1.replace(\"aA Bb cC\",\"welcome\")\n",
    "print(\"old string:\",str1)\n",
    "print(\"new string:\",x)\n"
   ]
  },
  {
   "cell_type": "code",
   "execution_count": 9,
   "id": "7eafe31f",
   "metadata": {},
   "outputs": [
    {
     "name": "stdout",
     "output_type": "stream",
     "text": [
      "welcome mitraz\n"
     ]
    }
   ],
   "source": [
    "#string Concatination\n",
    "a=\"welcome\"\n",
    "b=\"mitraz\"\n",
    "c=a+\" \"+b\n",
    "print(c)"
   ]
  },
  {
   "cell_type": "code",
   "execution_count": 14,
   "id": "c356baae",
   "metadata": {},
   "outputs": [
    {
     "name": "stdout",
     "output_type": "stream",
     "text": [
      "There are 12 months in  a year\n",
      "There are 12 months and 4 weeks and 365 days in a year\n"
     ]
    }
   ],
   "source": [
    "#Format Methods\n",
    "months=12\n",
    "msg=\"There are {} months in  a year\"\n",
    "print(msg.format(months))\n",
    "\n",
    "months=12\n",
    "weeks=4\n",
    "days=365\n",
    "msg=\"There are {} months and {} weeks and {} days in a year\"\n",
    "print(msg.format(months,weeks,days))"
   ]
  },
  {
   "cell_type": "code",
   "execution_count": null,
   "id": "a0469f31",
   "metadata": {},
   "outputs": [],
   "source": []
  }
 ],
 "metadata": {
  "kernelspec": {
   "display_name": "Python 3 (ipykernel)",
   "language": "python",
   "name": "python3"
  },
  "language_info": {
   "codemirror_mode": {
    "name": "ipython",
    "version": 3
   },
   "file_extension": ".py",
   "mimetype": "text/x-python",
   "name": "python",
   "nbconvert_exporter": "python",
   "pygments_lexer": "ipython3",
   "version": "3.11.5"
  },
  "widgets": {
   "application/vnd.jupyter.widget-state+json": {
    "state": {},
    "version_major": 2,
    "version_minor": 0
   }
  }
 },
 "nbformat": 4,
 "nbformat_minor": 5
}
