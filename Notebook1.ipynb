{
 "cells": [
  {
   "cell_type": "code",
   "execution_count": 2,
   "id": "dd91bb26",
   "metadata": {},
   "outputs": [
    {
     "name": "stdout",
     "output_type": "stream",
     "text": [
      "enter the first no:34\n",
      "34 is of type <class 'int'>\n",
      "2.0 is of type <class 'float'>\n",
      "(1+2j) is of type <class 'complex'>\n",
      "enter the first no:56\n",
      "56.0 is of type <class 'float'>\n",
      "2.0 is of type <class 'float'>\n",
      "(1+2j) is of type <class 'complex'>\n",
      "enter the first no:67\n",
      "(67+0j) is of type <class 'complex'>\n",
      "2.0 is of type <class 'float'>\n",
      "(1+2j) is of type <class 'complex'>\n",
      "Hello\n",
      "234\n",
      "linux\n",
      "python\n",
      "Our first program\n",
      "p\n"
     ]
    }
   ],
   "source": [
    "#Int\n",
    "num1=int(input(\"enter the first no:\"))\n",
    "print(num1, 'is of type', type(num1))\n",
    "num2 = 2.0\n",
    "print(num2, 'is of type', type(num2))\n",
    "num3 = 1+2j\n",
    "print(num3, 'is of type', type(num3))\n",
    "\n",
    "#float\n",
    "num1=float(input(\"enter the first no:\"))\n",
    "print(num1, 'is of type', type(num1))\n",
    "num2 = 2.0\n",
    "print(num2, 'is of type', type(num2))\n",
    "num3 = 1+2j\n",
    "print(num3, 'is of type', type(num3))\n",
    "\n",
    "#Complex\n",
    "num1=complex(input(\"enter the first no:\"))\n",
    "print(num1, 'is of type', type(num1))\n",
    "num2 = 2.0\n",
    "print(num2, 'is of type', type(num2))\n",
    "num3 = 1+2j\n",
    "print(num3, 'is of type', type(num3))\n",
    "\n",
    "#List data type\n",
    "languages=[\"Python\",\"C++\",\"JAVA\",234]\n",
    "L1=languages[0]\n",
    "languages[0]=\"Hello\"\n",
    "print(languages[0])\n",
    "print(languages[3])\n",
    "\n",
    "\n",
    "#tuple data type\n",
    "product = ('Microsoft', 'linux', 499.99)\n",
    "print(product[1]) \n",
    "\n",
    "#string data type\n",
    "name='python'\n",
    "print(name)\n",
    "messege=(\"Our first program\")\n",
    "print(messege)\n",
    "print(name[0])"
   ]
  },
  {
   "cell_type": "code",
   "execution_count": 11,
   "id": "4992df14",
   "metadata": {
    "scrolled": false
   },
   "outputs": [
    {
     "name": "stdout",
     "output_type": "stream",
     "text": [
      "{'pavan': 23, 'sravan': 456}\n",
      "23\n",
      "hi\n"
     ]
    }
   ],
   "source": [
    "#dict data type\n",
    "employee_ID={'pavan':23, 'sravan':456}\n",
    "print(employee_ID)\n",
    "print(employee_ID[\"pavan\"])\n",
    "print(\"hi\")"
   ]
  },
  {
   "cell_type": "code",
   "execution_count": 9,
   "id": "686da31a",
   "metadata": {},
   "outputs": [
    {
     "name": "stdout",
     "output_type": "stream",
     "text": [
      "<class 'bool'>\n",
      "True\n"
     ]
    }
   ],
   "source": [
    "#bolean\n",
    "a=True\n",
    "b=False\n",
    "print (type(a))\n",
    "print(a)"
   ]
  },
  {
   "cell_type": "code",
   "execution_count": 12,
   "id": "95a23bfc",
   "metadata": {},
   "outputs": [
    {
     "name": "stdout",
     "output_type": "stream",
     "text": [
      "{112, 113, 114, 115, 116}\n",
      "<class 'set'>\n"
     ]
    }
   ],
   "source": [
    "#set data type\n",
    "student_id={112,113,114,115,116}\n",
    "print(student_id)\n",
    "print(type(student_id))"
   ]
  },
  {
   "cell_type": "code",
   "execution_count": 13,
   "id": "6201c934",
   "metadata": {},
   "outputs": [
    {
     "name": "stdout",
     "output_type": "stream",
     "text": [
      "<class 'int'>\n",
      "10\n",
      "<class 'int'>\n",
      "10.0\n",
      "<class 'float'>\n",
      "1j\n",
      "<class 'complex'>\n"
     ]
    }
   ],
   "source": [
    "#specific data type\n",
    "a=23\n",
    "print(type(a))\n",
    "x=int(10)\n",
    "print(x)\n",
    "print(type(x))\n",
    "y=float(10)\n",
    "print(y)\n",
    "print(type(y))\n",
    "z=complex(1j)\n",
    "print(z)\n",
    "print(type(z))\n",
    "\n"
   ]
  },
  {
   "cell_type": "code",
   "execution_count": null,
   "id": "89695391",
   "metadata": {},
   "outputs": [],
   "source": []
  }
 ],
 "metadata": {
  "kernelspec": {
   "display_name": "Python 3 (ipykernel)",
   "language": "python",
   "name": "python3"
  },
  "language_info": {
   "codemirror_mode": {
    "name": "ipython",
    "version": 3
   },
   "file_extension": ".py",
   "mimetype": "text/x-python",
   "name": "python",
   "nbconvert_exporter": "python",
   "pygments_lexer": "ipython3",
   "version": "3.11.5"
  }
 },
 "nbformat": 4,
 "nbformat_minor": 5
}
