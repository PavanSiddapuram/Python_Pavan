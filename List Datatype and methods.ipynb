{
 "cells": [
  {
   "cell_type": "code",
   "execution_count": 6,
   "id": "6de74b3d",
   "metadata": {},
   "outputs": [
    {
     "name": "stdout",
     "output_type": "stream",
     "text": [
      "Enter string values(space seperated):AB,BC,CD\n",
      "the list is: ['AB', 'BC', 'CD']\n"
     ]
    }
   ],
   "source": [
    "#Taking a input of a python list\n",
    "str1=input(\"Enter string values(space seperated):\")\n",
    "list1=str1.split(\",\")\n",
    "print (\"the list is:\",list1) "
   ]
  },
  {
   "cell_type": "code",
   "execution_count": 19,
   "id": "35744441",
   "metadata": {
    "scrolled": true
   },
   "outputs": [
    {
     "name": "stdout",
     "output_type": "stream",
     "text": [
      "Initial blank List is: \n",
      "[]\n",
      "\n",
      "List after Addition of Three elements:  [100, 200, 300]\n"
     ]
    }
   ],
   "source": [
    "#Adding Elements in a python list\n",
    "#Apped()\n",
    "L1 = []\n",
    "print(\"Initial blank List is: \")\n",
    "print(L1)\n",
    "\n",
    "L1.append(100)\n",
    "L1.append(200)\n",
    "L1.append(300)\n",
    "print(\"\\nList after Addition of Three elements: \", L1)\n",
    " "
   ]
  },
  {
   "cell_type": "code",
   "execution_count": 26,
   "id": "b63af1f6",
   "metadata": {},
   "outputs": [
    {
     "name": "stdout",
     "output_type": "stream",
     "text": [
      "Initial list: [1, 2, 3, 4, 5]\n",
      "List after performing insert operation: ['Mitraz', 1, 2, 3, 15, 4, 5]\n"
     ]
    }
   ],
   "source": [
    "#Insert() method\n",
    "L1=[1,2,3,4,5]\n",
    "print(\"Initial list:\",L1)\n",
    "\n",
    "L1.insert(3,15)\n",
    "L1.insert(0,\"Mitraz\")\n",
    "print(\"List after performing insert operation:\",L1)"
   ]
  },
  {
   "cell_type": "code",
   "execution_count": 29,
   "id": "9d57d048",
   "metadata": {
    "scrolled": true
   },
   "outputs": [
    {
     "name": "stdout",
     "output_type": "stream",
     "text": [
      "Initial list: [1, 2, 3, 4, 5]\n",
      "List after adding values by using This method: [1, 2, 3, 4, 5, 6, 'mintraz', 'skills']\n"
     ]
    }
   ],
   "source": [
    "#Extend() method\n",
    "L1=[1,2,3,4,5]\n",
    "print(\"Initial list:\",L1)\n",
    "L1.extend([6,'mintraz' ,'skills'])\n",
    "print(\"List after adding values by using This method:\",L1)"
   ]
  },
  {
   "cell_type": "code",
   "execution_count": 32,
   "id": "c89cf1b0",
   "metadata": {},
   "outputs": [
    {
     "name": "stdout",
     "output_type": "stream",
     "text": [
      "Original list: [1, 2, 3, 4, 'mitraz', 'skills']\n",
      "After reversing: ['skills', 'mitraz', 4, 3, 2, 1]\n"
     ]
    }
   ],
   "source": [
    "#Reversing a list\n",
    "List1=[1,2,3,4,'mitraz','skills']\n",
    "print(\"Original list:\",List1)\n",
    "List1.reverse()\n",
    "print(\"After reversing:\",List1)\n"
   ]
  },
  {
   "cell_type": "code",
   "execution_count": 42,
   "id": "3d9dbe71",
   "metadata": {},
   "outputs": [
    {
     "name": "stdout",
     "output_type": "stream",
     "text": [
      "[1, 2, 3, 4, 5, 6, 7, 8, 9]\n",
      "[1, 2, 4, 5, 7, 8, 9]\n"
     ]
    }
   ],
   "source": [
    "#Removing elements from a list\n",
    "L=[1,2,3,4,5,6,7,8,9]\n",
    "print(L)\n",
    "L.remove(3)\n",
    "L.remove(6)\n",
    "print(L)"
   ]
  },
  {
   "cell_type": "code",
   "execution_count": 43,
   "id": "cca142e8",
   "metadata": {},
   "outputs": [
    {
     "name": "stdout",
     "output_type": "stream",
     "text": [
      "[1, 2, 4]\n"
     ]
    }
   ],
   "source": [
    "#Using pop() method\n",
    "L1=[1,2,3,4,5]\n",
    "L1.pop()\n",
    "print\n",
    "L1.pop(2)\n",
    "print(L1)\n",
    "\n"
   ]
  },
  {
   "cell_type": "code",
   "execution_count": 1,
   "id": "b0b8b526",
   "metadata": {},
   "outputs": [
    {
     "name": "stdout",
     "output_type": "stream",
     "text": [
      "initial list: [1, 2, 3, 4, 5, 'a', 'B', 'C', -1, -2, -3]\n",
      "\n",
      " slicing element in a list 3-5: [4, 5]\n",
      "\n",
      "Element sliced from the 5th element: ['B', 'C', -1, -2, -3]\n",
      "\n",
      "printing all the elements form slicing: [1, 2, 3, 4, 5, 'a', 'B', 'C', -1, -2, -3]\n"
     ]
    }
   ],
   "source": [
    "#Slicing of a list\n",
    "L1=[1,2,3,4,5,'a','B','C',-1,-2,-3]\n",
    "print(\"initial list:\",L1)\n",
    "\n",
    "sliced_list=L1[3:5]\n",
    "print(\"\\n slicing element in a list 3-5:\",sliced_list)\n",
    "sliced_list=L1[6:]\n",
    "print(\"\\nElement sliced from the 5th element:\",sliced_list)\n",
    "sliced_list=L1[:]\n",
    "print(\"\\nprinting all the elements form slicing:\",sliced_list)"
   ]
  },
  {
   "cell_type": "code",
   "execution_count": null,
   "id": "feced8cc",
   "metadata": {},
   "outputs": [],
   "source": []
  }
 ],
 "metadata": {
  "kernelspec": {
   "display_name": "Python 3 (ipykernel)",
   "language": "python",
   "name": "python3"
  },
  "language_info": {
   "codemirror_mode": {
    "name": "ipython",
    "version": 3
   },
   "file_extension": ".py",
   "mimetype": "text/x-python",
   "name": "python",
   "nbconvert_exporter": "python",
   "pygments_lexer": "ipython3",
   "version": "3.11.5"
  }
 },
 "nbformat": 4,
 "nbformat_minor": 5
}
