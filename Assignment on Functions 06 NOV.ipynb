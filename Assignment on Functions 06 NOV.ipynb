{
 "cells": [
  {
   "cell_type": "code",
   "execution_count": 16,
   "id": "6f592e56",
   "metadata": {},
   "outputs": [
    {
     "name": "stdout",
     "output_type": "stream",
     "text": [
      " Name : Pavan , age : 22\n"
     ]
    }
   ],
   "source": [
    "#1.\tWrite a program to create a function that takes two arguments, name and age, and print their value.\n",
    "def my_fun(name,age):\n",
    "    print(f\" Name : {name} , age : {age}\") \n",
    "my_fun(\"Pavan\",22)"
   ]
  },
  {
   "cell_type": "code",
   "execution_count": 47,
   "id": "e673a9bd",
   "metadata": {},
   "outputs": [
    {
     "name": "stdout",
     "output_type": "stream",
     "text": [
      "20\n",
      "39\n",
      "80\n",
      "57\n",
      "47\n",
      "99\n"
     ]
    }
   ],
   "source": [
    "#2.\tWrite a program to create function func1() to accept a variable length of arguments and print their value.\n",
    "def func1(*args):\n",
    "    for i in args:\n",
    "        print(i)\n",
    "func1(20,39,80)\n",
    "func1(57,47,99)\n"
   ]
  },
  {
   "cell_type": "code",
   "execution_count": 49,
   "id": "e6f967e7",
   "metadata": {},
   "outputs": [
    {
     "name": "stdout",
     "output_type": "stream",
     "text": [
      "(86, 26)\n"
     ]
    }
   ],
   "source": [
    "#3.\tWrite a program to create function calculation() such that it can accept two variables and \n",
    "#calculate addition and subtraction. Also, it must return both addition and subtraction in a single return call.\n",
    "\n",
    "\n",
    "def calculation(a,b):\n",
    "    add = a+b\n",
    "    sub = a-b\n",
    "    return(add,sub)\n",
    "res = calculation(56,30)\n",
    "print(res)"
   ]
  },
  {
   "cell_type": "code",
   "execution_count": 54,
   "id": "931945d7",
   "metadata": {},
   "outputs": [
    {
     "name": "stdout",
     "output_type": "stream",
     "text": [
      " name : mike ; salary: 16000\n",
      " name : jenney ; salary: 10000\n"
     ]
    }
   ],
   "source": [
    "#4.\tWrite a program to create a function show_employee() using the following conditions. (Hint: Use default arguments)\n",
    " \n",
    "\n",
    "def show_employee(name, salary=10000):\n",
    "    print(f\" name : {name} ; salary: {salary}\")\n",
    "\n",
    "show_employee(\"mike\", 16000)\n",
    "show_employee(\"jenney\")\n"
   ]
  },
  {
   "cell_type": "code",
   "execution_count": 65,
   "id": "0551fa67",
   "metadata": {},
   "outputs": [
    {
     "name": "stdout",
     "output_type": "stream",
     "text": [
      "45\n"
     ]
    }
   ],
   "source": [
    "#5. Write a program to create a recursive function to calculate the sum of numbers from 0 to 10.\n",
    "#(A recursive function is a \tfunction that calls itself again and again.)\n",
    "def add(numb):\n",
    "    if numb:\n",
    "        return numb + add(numb - 1)\n",
    "    else:\n",
    "        return 0\n",
    "\n",
    "res = add(9)\n",
    "print(res)\n"
   ]
  },
  {
   "cell_type": "code",
   "execution_count": 70,
   "id": "35d62ccb",
   "metadata": {},
   "outputs": [
    {
     "ename": "NameError",
     "evalue": "name 'my_func2' is not defined",
     "output_type": "error",
     "traceback": [
      "\u001b[1;31m---------------------------------------------------------------------------\u001b[0m",
      "\u001b[1;31mNameError\u001b[0m                                 Traceback (most recent call last)",
      "Cell \u001b[1;32mIn[70], line 9\u001b[0m\n\u001b[0;32m      7\u001b[0m \u001b[38;5;28;01mdef\u001b[39;00m \u001b[38;5;21mmy_func3\u001b[39m( x, y, z ):\n\u001b[0;32m      8\u001b[0m     \u001b[38;5;28;01mreturn\u001b[39;00m my_func2( x, my_func2( y, z ) )\n\u001b[1;32m----> 9\u001b[0m \u001b[38;5;28mprint\u001b[39m(my_func3(\u001b[38;5;241m3\u001b[39m, \u001b[38;5;241m6\u001b[39m, \u001b[38;5;241m-\u001b[39m\u001b[38;5;241m5\u001b[39m))\n",
      "Cell \u001b[1;32mIn[70], line 8\u001b[0m, in \u001b[0;36mmy_func3\u001b[1;34m(x, y, z)\u001b[0m\n\u001b[0;32m      7\u001b[0m \u001b[38;5;28;01mdef\u001b[39;00m \u001b[38;5;21mmy_func3\u001b[39m( x, y, z ):\n\u001b[1;32m----> 8\u001b[0m     \u001b[38;5;28;01mreturn\u001b[39;00m my_func2( x, my_func2( y, z ) )\n",
      "\u001b[1;31mNameError\u001b[0m: name 'my_func2' is not defined"
     ]
    }
   ],
   "source": [
    "#6.\n",
    "\n",
    "def my_func3( x, y ):\n",
    "    if x > y:\n",
    "        return x\n",
    "    return y\n",
    "def my_func3( x, y, z ):\n",
    "    return my_func2( x, my_func2( y, z ) )\n",
    "print(my_func3(3, 6, -5))\n"
   ]
  },
  {
   "cell_type": "code",
   "execution_count": 78,
   "id": "b6ac6fc0",
   "metadata": {},
   "outputs": [
    {
     "name": "stdout",
     "output_type": "stream",
     "text": [
      "10\n"
     ]
    }
   ],
   "source": [
    "#6 \n",
    "\n",
    "def max_of_two( a, b ):\n",
    "    if a > b:\n",
    "        return a\n",
    "    return b\n",
    "def max_of_three( a,b,c ):\n",
    "    return max_of_two( a, max_of_two( b, c ) )\n",
    "print(max_of_three(3, 5, 10))\n"
   ]
  },
  {
   "cell_type": "code",
   "execution_count": 77,
   "id": "a15eb1a7",
   "metadata": {},
   "outputs": [
    {
     "name": "stdout",
     "output_type": "stream",
     "text": [
      "20\n"
     ]
    }
   ],
   "source": [
    "#7.. Write a Python function to sum all the numbers in a list.\n",
    "def sum(num):\n",
    "    total = 0\n",
    "    for x in num:\n",
    "        total += x\n",
    "    return total\n",
    "print(sum((8, 2, 3, 0, 7)))\n"
   ]
  },
  {
   "cell_type": "code",
   "execution_count": 83,
   "id": "d06770ca",
   "metadata": {},
   "outputs": [
    {
     "name": "stdout",
     "output_type": "stream",
     "text": [
      "NOHTYP EKIL I\n"
     ]
    }
   ],
   "source": [
    "#8.Write a Python program to reverse a string.\n",
    "\n",
    "def my_function(x):\n",
    "    return x[::-1]\n",
    "mytxt = my_function(\"I LIKE PYTHON\")\n",
    "print(mytxt)\n",
    "    "
   ]
  },
  {
   "cell_type": "code",
   "execution_count": 4,
   "id": "b6888033",
   "metadata": {},
   "outputs": [
    {
     "name": "stdout",
     "output_type": "stream",
     "text": [
      "Original String :  Welcome To Mitraz ,Puttaparthi\n",
      "No. of Upper case characters :  4\n",
      "No. of Lower case Characters :  22\n"
     ]
    }
   ],
   "source": [
    "#9\n",
    "def string_test(x):\n",
    "    a={\"UPPER_CASE\":0, \"LOWER_CASE\":0}\n",
    "    for i in x:\n",
    "        if i.isupper():\n",
    "           a[\"UPPER_CASE\"]+=1\n",
    "        elif i.islower():\n",
    "           a[\"LOWER_CASE\"]+=1\n",
    "        else:\n",
    "           pass\n",
    "    print (\"Original String : \", x)\n",
    "    print (\"No. of Upper case characters : \", a[\"UPPER_CASE\"])\n",
    "    print (\"No. of Lower case Characters : \", a[\"LOWER_CASE\"])\n",
    "\n",
    "string_test(\"Welcome To Mitraz ,Puttaparthi\")\n"
   ]
  },
  {
   "cell_type": "code",
   "execution_count": 12,
   "id": "6dc34bf4",
   "metadata": {},
   "outputs": [
    {
     "name": "stdout",
     "output_type": "stream",
     "text": [
      "2\n",
      "4\n",
      "6\n",
      "8\n"
     ]
    }
   ],
   "source": [
    "#10. Write a Python program to print the even numbers from a \tgiven list.\n",
    "def my_func(list1):\n",
    "    for i in list1:\n",
    "        if i %2 ==0:\n",
    "            print(i)\n",
    "num = [1,2,3,4,5,6,7,8,9]\n",
    "my_func(num)"
   ]
  },
  {
   "cell_type": "code",
   "execution_count": null,
   "id": "509cc892",
   "metadata": {},
   "outputs": [],
   "source": []
  },
  {
   "cell_type": "code",
   "execution_count": null,
   "id": "9ccfc672",
   "metadata": {},
   "outputs": [],
   "source": []
  },
  {
   "cell_type": "code",
   "execution_count": null,
   "id": "5edfea2f",
   "metadata": {},
   "outputs": [],
   "source": []
  }
 ],
 "metadata": {
  "kernelspec": {
   "display_name": "Python 3 (ipykernel)",
   "language": "python",
   "name": "python3"
  },
  "language_info": {
   "codemirror_mode": {
    "name": "ipython",
    "version": 3
   },
   "file_extension": ".py",
   "mimetype": "text/x-python",
   "name": "python",
   "nbconvert_exporter": "python",
   "pygments_lexer": "ipython3",
   "version": "3.11.5"
  }
 },
 "nbformat": 4,
 "nbformat_minor": 5
}
