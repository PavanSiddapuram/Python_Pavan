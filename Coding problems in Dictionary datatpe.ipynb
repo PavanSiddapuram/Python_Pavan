{
 "cells": [
  {
   "cell_type": "code",
   "execution_count": 58,
   "id": "bc0ba07c",
   "metadata": {},
   "outputs": [
    {
     "name": "stdout",
     "output_type": "stream",
     "text": [
      "{'One': 1, 'Two': 2, 'Three': 3} <class 'dict'>\n"
     ]
    }
   ],
   "source": [
    "#1 program to convert two lists into dictionary\n",
    "keys = ['One', 'Two', 'Three']\n",
    "values = [1, 2, 3]\n",
    "dict1 = dict(zip(keys,values))\n",
    "print(dict1,type(dict1))\n"
   ]
  },
  {
   "cell_type": "code",
   "execution_count": 8,
   "id": "3798fe9e",
   "metadata": {},
   "outputs": [
    {
     "name": "stdout",
     "output_type": "stream",
     "text": [
      "{'AB': 10, 'BC': 12, 'CD': 14, 'XY': 16, 'YZ': 18, 'ZX': 20}\n",
      "{'AB': 10, 'BC': 12, 'CD': 14, 'XY': 16, 'YZ': 18, 'ZX': 20}\n"
     ]
    }
   ],
   "source": [
    "#2 merge 2 dictionaries into 1 \n",
    "A = {\"AB\":10,\"BC\":12,\"CD\":14}\n",
    "B = {\"XY\":16,\"YZ\":18,\"ZX\":20}\n",
    "print(A | B)\n",
    "print({**A,**B})"
   ]
  },
  {
   "cell_type": "code",
   "execution_count": 59,
   "id": "28a9132f",
   "metadata": {},
   "outputs": [
    {
     "name": "stdout",
     "output_type": "stream",
     "text": [
      "{'name': 'Kelly', 'salary': 8000}\n"
     ]
    }
   ],
   "source": [
    "#3 Write a Python program to create a new dictionary by extracting the mentioned keys from the below dictionary\n",
    "sample_dict = {\n",
    "    \"name\": \"Kelly\",\n",
    "    \"age\": 25 ,\n",
    "    \"salary\": 8000,\n",
    "    \"city\": \"New york\"}\n",
    "Extract_keys = [\"name\",\"salary\"]\n",
    "new_dict ={}\n",
    "for keys in Extract_keys:\n",
    "    if keys in sample_dict:\n",
    "        new_dict[keys] = sample_dict[keys]\n",
    "print(new_dict)\n",
    "\n",
    "\n",
    "\n"
   ]
  },
  {
   "cell_type": "code",
   "execution_count": 10,
   "id": "b6053e57",
   "metadata": {},
   "outputs": [
    {
     "name": "stdout",
     "output_type": "stream",
     "text": [
      "{'emp1': {'name': 'Jhon', 'salary': 7500}, 'emp2': {'name': 'Emma', 'salary': 8000}, 'emp3': {'name': 'Brad', 'salary': 8500}}\n"
     ]
    }
   ],
   "source": [
    "#Write a Python program to list of keys from the below dictionary.\n",
    "\n",
    "sample_dict = {\n",
    "    'emp1': {'name': 'Jhon', 'salary': 7500},\n",
    "    'emp2': {'name': 'Emma', 'salary': 8000},\n",
    "  'emp3': {'name': 'Brad', 'salary': 500 }}\n",
    "sample_dict[\"emp3\"][\"salary\"] = 8500\n",
    "print(sample_dict)\n",
    "\n",
    "\n",
    "\n"
   ]
  },
  {
   "cell_type": "code",
   "execution_count": 17,
   "id": "2091f3b1",
   "metadata": {},
   "outputs": [
    {
     "name": "stdout",
     "output_type": "stream",
     "text": [
      "200 is already exists\n"
     ]
    }
   ],
   "source": [
    "#Write a Python program to check if value 200 exists in the following dictionary.\n",
    "\n",
    "sample_dict = {'a': 100, 'b': 200, 'c': 300}\n",
    "if 200 in sample_dict.values():\n",
    "    \n",
    "    print(\"200 is already exists\")\n"
   ]
  },
  {
   "cell_type": "code",
   "execution_count": 61,
   "id": "4e140ee6",
   "metadata": {},
   "outputs": [
    {
     "name": "stdout",
     "output_type": "stream",
     "text": [
      "{'name': 'Kelly', 'age': 25, 'salary': 8000, 'loation': 'New york'}\n"
     ]
    }
   ],
   "source": [
    "#Write a program to rename a key city to a location in the following dictionary.\n",
    "sample_dict = {\n",
    "       \"name\": \"Kelly\",\n",
    "     \"age\": 25,\n",
    "     \"salary\": 8000,\n",
    "     \"city\": \"New york\"}\n",
    "sample_dict[\"loation\"]=sample_dict.pop(\"city\")\n",
    "#del sample_dict[\"city\"]\n",
    "print(sample_dict)\n"
   ]
  },
  {
   "cell_type": "code",
   "execution_count": 69,
   "id": "32ef7902",
   "metadata": {},
   "outputs": [
    {
     "name": "stdout",
     "output_type": "stream",
     "text": [
      "{'age': 25, 'city': 'New york'}\n"
     ]
    }
   ],
   "source": [
    "#Write a Python program to list of keys from the below dictionary.\n",
    "sample_dict = {\n",
    "                \"name\": \"Kelly\",\n",
    "                 \"age\": 25,\n",
    "                \"salary\": 8000,\n",
    "              \"city\": \"New york\"}\n",
    "\n",
    "keys = [\"name\", \"salary\"]\n",
    "for k in keys:\n",
    "        sample_dict.pop(k)\n",
    "print(sample_dict)\n"
   ]
  },
  {
   "cell_type": "code",
   "execution_count": 26,
   "id": "5563af36",
   "metadata": {},
   "outputs": [
    {
     "name": "stdout",
     "output_type": "stream",
     "text": [
      "20 40 60 80 100 "
     ]
    }
   ],
   "source": [
    "#Use a loop to display elements from a given list present at odd index positions.\n",
    "my_list = [10, 20, 30, 40, 50, 60, 70, 80, 90, 100]\n",
    "for i in my_list[1::2]:\n",
    "    \n",
    "    print(i,end=\" \")\n"
   ]
  },
  {
   "cell_type": "code",
   "execution_count": 23,
   "id": "abbed4f2",
   "metadata": {},
   "outputs": [
    {
     "name": "stdout",
     "output_type": "stream",
     "text": [
      "enter a number:6\n",
      "the number is : 0 the cube is : 0\n",
      "the number is : 1 the cube is : 1\n",
      "the number is : 2 the cube is : 8\n",
      "the number is : 3 the cube is : 27\n",
      "the number is : 4 the cube is : 64\n",
      "the number is : 5 the cube is : 125\n",
      "the number is : 6 the cube is : 216\n"
     ]
    }
   ],
   "source": [
    "#Calculate the cube of all numbers from 1 to a given number. Accept the number from user. [Hint: use formula a*a*a]\n",
    "num = int(input(\"enter a number:\"))\n",
    "for i in range (num +1):\n",
    "    print(\"the number is :\", i, \"the cube is :\",(i*i*i) )"
   ]
  },
  {
   "cell_type": "code",
   "execution_count": 44,
   "id": "a1ca5d3a",
   "metadata": {},
   "outputs": [
    {
     "name": "stdout",
     "output_type": "stream",
     "text": [
      "Number: 5\n",
      "15\n"
     ]
    }
   ],
   "source": [
    "#Write a program to accept a number from a user and calculate the sum \tof all numbers from 1 to a given number\n",
    "\n",
    "num = int(input(\"Number: \"))\n",
    "sum = 0\n",
    "for i in range(1, num + 1):\n",
    "    sum += i\n",
    "print(sum)"
   ]
  },
  {
   "cell_type": "code",
   "execution_count": 53,
   "id": "c8a9e529",
   "metadata": {},
   "outputs": [
    {
     "name": "stdout",
     "output_type": "stream",
     "text": [
      "75\n",
      "150\n",
      "145\n",
      "50\n"
     ]
    }
   ],
   "source": [
    "#Write a program to display only those numbers from a list that satisfy \tthe following conditions.\n",
    "\t#The number must be divisible by five\n",
    "\t#If the number is greater than 150, then skip it and move to the next number\n",
    "\t#If the number is greater than 500, then stop the loop\n",
    "\n",
    "numb = [12, 75, 150, 180, 145, 525, 50]\n",
    "for i in numb:\n",
    "    if i > 150:\n",
    "        continue\n",
    "    elif i>500:\n",
    "        break\n",
    "    elif i % 5 == 0:\n",
    "            print(i)\n",
    "                \n",
    "\n",
    "        \n",
    "        \n",
    "        "
   ]
  },
  {
   "cell_type": "code",
   "execution_count": 56,
   "id": "95982360",
   "metadata": {},
   "outputs": [
    {
     "name": "stdout",
     "output_type": "stream",
     "text": [
      "enter a number :5\n",
      "\n",
      "1 \n",
      "1 2 \n",
      "1 2 3 \n",
      "1 2 3 4 \n",
      "1 2 3 4 5 \n"
     ]
    }
   ],
   "source": [
    "#Write a program to print the following number pattern using a loop\n",
    "num = int(input(\"enter a number :\"))\n",
    "for i in range(num+1):\n",
    "    for j in range(1,i+1):\n",
    "        print(j,end=\" \")\n",
    "    print()\n"
   ]
  },
  {
   "cell_type": "code",
   "execution_count": null,
   "id": "d3f3bd7e",
   "metadata": {},
   "outputs": [],
   "source": []
  }
 ],
 "metadata": {
  "kernelspec": {
   "display_name": "Python 3 (ipykernel)",
   "language": "python",
   "name": "python3"
  },
  "language_info": {
   "codemirror_mode": {
    "name": "ipython",
    "version": 3
   },
   "file_extension": ".py",
   "mimetype": "text/x-python",
   "name": "python",
   "nbconvert_exporter": "python",
   "pygments_lexer": "ipython3",
   "version": "3.11.5"
  }
 },
 "nbformat": 4,
 "nbformat_minor": 5
}
