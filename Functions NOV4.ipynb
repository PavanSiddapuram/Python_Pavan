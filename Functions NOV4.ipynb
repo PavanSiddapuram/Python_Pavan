{
 "cells": [
  {
   "cell_type": "code",
   "execution_count": null,
   "id": "cb39730f",
   "metadata": {},
   "outputs": [],
   "source": [
    "#syntax\n",
    "def fun_name():\n",
    "    statements 1\n",
    "    statements 2\n",
    "    blocks of code \n",
    "    return value"
   ]
  },
  {
   "cell_type": "code",
   "execution_count": 48,
   "id": "b9237c1c",
   "metadata": {},
   "outputs": [
    {
     "name": "stdout",
     "output_type": "stream",
     "text": [
      "Hello World!\n"
     ]
    }
   ],
   "source": [
    "def my_fun():\n",
    "    print(\"Hello World!\")\n",
    "my_fun()\n",
    "\n",
    "    "
   ]
  },
  {
   "cell_type": "code",
   "execution_count": 47,
   "id": "e958f04b",
   "metadata": {},
   "outputs": [
    {
     "name": "stdout",
     "output_type": "stream",
     "text": [
      "Hello world from function\n",
      "None\n"
     ]
    }
   ],
   "source": [
    "# To call a function, use the function name followed by parenthesis:\n",
    "def my_fun():\n",
    "    print(\"Hello world from function\")\n",
    "print( my_fun())"
   ]
  },
  {
   "cell_type": "code",
   "execution_count": 52,
   "id": "0da25b35",
   "metadata": {},
   "outputs": [
    {
     "name": "stdout",
     "output_type": "stream",
     "text": [
      "Pavan S.\n",
      "sai S.\n"
     ]
    }
   ],
   "source": [
    "def my_name(fname):\n",
    "    print(fname + \" S.\")\n",
    "    \n",
    "my_name(\"Pavan\")\n",
    "my_name(\"sai\")\n",
    "    #print(my_name)"
   ]
  },
  {
   "cell_type": "code",
   "execution_count": 43,
   "id": "c4b57f5b",
   "metadata": {},
   "outputs": [
    {
     "name": "stdout",
     "output_type": "stream",
     "text": [
      "Pavan siddapuram\n"
     ]
    }
   ],
   "source": [
    "def my_fun(fname,lname):\n",
    "    print(fname +\" \"+lname )\n",
    "my_fun(\"Pavan\", \"siddapuram\")\n",
    "\n",
    "\n"
   ]
  },
  {
   "cell_type": "code",
   "execution_count": 55,
   "id": "e362c4c6",
   "metadata": {},
   "outputs": [
    {
     "name": "stdout",
     "output_type": "stream",
     "text": [
      "No arguments\n"
     ]
    }
   ],
   "source": [
    "def my_fun():\n",
    "    print(\"No arguments\")\n",
    "my_fun()    "
   ]
  },
  {
   "cell_type": "code",
   "execution_count": 70,
   "id": "e0de24c7",
   "metadata": {},
   "outputs": [
    {
     "name": "stdout",
     "output_type": "stream",
     "text": [
      "Pavan VS Ajay\n",
      "Becon VS visa\n",
      "bit VS byte\n"
     ]
    }
   ],
   "source": [
    "def my_fun(fname,lname): \n",
    "    print(fname+\" VS \"+lname)\n",
    "my_fun(\"Pavan\",\"Ajay\")\n",
    "my_fun(\"Becon\",\"visa\")\n",
    "my_fun(\"bit\",\"byte\")\n"
   ]
  },
  {
   "cell_type": "code",
   "execution_count": 71,
   "id": "75520f68",
   "metadata": {},
   "outputs": [
    {
     "name": "stdout",
     "output_type": "stream",
     "text": [
      "Pavan is first name Siddapuram is last name\n"
     ]
    }
   ],
   "source": [
    "def my_fun(fname,lname):\n",
    "    print(f\"{fname} is first name {lname} is last name\")\n",
    "my_fun(fname =\"Pavan\", lname= \"Siddapuram\" )\n",
    "    "
   ]
  },
  {
   "cell_type": "code",
   "execution_count": 1,
   "id": "dca32767",
   "metadata": {},
   "outputs": [],
   "source": [
    "def multiple(x):\n",
    "    return x*5"
   ]
  },
  {
   "cell_type": "code",
   "execution_count": 1,
   "id": "5278f97f",
   "metadata": {},
   "outputs": [
    {
     "name": "stdout",
     "output_type": "stream",
     "text": [
      "The youngest child is Sai\n"
     ]
    }
   ],
   "source": [
    "#if the no.of parameters are unknown that we use * \n",
    "def my_function(*kids):\n",
    "  print(\"The youngest child is \" + kids[1])\n",
    "\n",
    "my_function(\"Pavan\", \"Sai\", \"kiran\")"
   ]
  },
  {
   "cell_type": "code",
   "execution_count": null,
   "id": "ce793216",
   "metadata": {},
   "outputs": [],
   "source": [
    "* - tuple\n",
    "** - dictionary"
   ]
  },
  {
   "cell_type": "code",
   "execution_count": 3,
   "id": "4ab95b9c",
   "metadata": {},
   "outputs": [
    {
     "name": "stdout",
     "output_type": "stream",
     "text": [
      "{'s1': 'Jaswanth', 's2': 'Manoj', 's3': 'Shiv', 's4': 'Rajkumar'}\n"
     ]
    }
   ],
   "source": [
    "def my_function(**kid):\n",
    "    print(kid)\n",
    "\n",
    "my_function(s1 = \"Jaswanth\",s2 =\"Manoj\",s3=\"Shiv\",s4 = \"Rajkumar\")"
   ]
  },
  {
   "cell_type": "code",
   "execution_count": null,
   "id": "05749424",
   "metadata": {},
   "outputs": [],
   "source": []
  },
  {
   "cell_type": "code",
   "execution_count": null,
   "id": "ad6d022b",
   "metadata": {},
   "outputs": [],
   "source": []
  }
 ],
 "metadata": {
  "kernelspec": {
   "display_name": "Python 3 (ipykernel)",
   "language": "python",
   "name": "python3"
  },
  "language_info": {
   "codemirror_mode": {
    "name": "ipython",
    "version": 3
   },
   "file_extension": ".py",
   "mimetype": "text/x-python",
   "name": "python",
   "nbconvert_exporter": "python",
   "pygments_lexer": "ipython3",
   "version": "3.11.5"
  }
 },
 "nbformat": 4,
 "nbformat_minor": 5
}
