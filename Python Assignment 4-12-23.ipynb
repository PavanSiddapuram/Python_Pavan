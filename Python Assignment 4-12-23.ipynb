{
 "cells": [
  {
   "cell_type": "code",
   "execution_count": 1,
   "id": "567929db",
   "metadata": {},
   "outputs": [
    {
     "name": "stdout",
     "output_type": "stream",
     "text": [
      "emocleW ot zartiM\n"
     ]
    }
   ],
   "source": [
    "# 1.   Write a python programme to reverse each word of a given string;\n",
    "#      Str=”Welcome to Mitraz”\n",
    "#      Expected Output: emocleW ot zartiM\n",
    "\n",
    "\n",
    "def reverse_word(word):\n",
    "  reversed_word = \"\"\n",
    "  for i in range(len(word) - 1, -1, -1):\n",
    "    reversed_word += word[i]\n",
    "  return reversed_word\n",
    "str = \"Welcome to Mitraz\"\n",
    "words = str.split()\n",
    "reversed_words = []\n",
    "for word in words:\n",
    " reversed_words.append(reverse_word(word))\n",
    "reversed_str = \" \".join(reversed_words)\n",
    "print(reversed_str)\n"
   ]
  },
  {
   "cell_type": "code",
   "execution_count": 4,
   "id": "933f9b53",
   "metadata": {},
   "outputs": [
    {
     "name": "stdout",
     "output_type": "stream",
     "text": [
      "Line1 Line2 Line3 Line4 Line5 \n"
     ]
    }
   ],
   "source": [
    " # 2.\tCreate a text file(sample.txt) with the following text. The data should be shown like below.\n",
    " #      Expected Output:  Line1 Line2 Line3 Line4 Line5\n",
    "\n",
    "with open(\"sample.txt\", \"w\") as f:\n",
    "  f.write(\"Line1\\n\")\n",
    "  f.write(\"Line2\\n\")\n",
    "  f.write(\"Line3\\n\")\n",
    "  f.write(\"Line4\\n\")\n",
    "  f.write(\"Line5\\n\")\n",
    "with open(\"sample.txt\", \"r\") as f:\n",
    "  text = f.read()\n",
    "text = text.replace(\"\\n\", \" \")\n",
    "print(text)\n"
   ]
  },
  {
   "cell_type": "code",
   "execution_count": 7,
   "id": "78785760",
   "metadata": {},
   "outputs": [
    {
     "name": "stdout",
     "output_type": "stream",
     "text": [
      "[10, 20, 30, 40, 50]\n"
     ]
    }
   ],
   "source": [
    "# 3.\tRemove items from a list while iterating\n",
    "#      Description:\n",
    " #     In this question, You need to remove items from a list while iterating but without creating a different copy of a list.\n",
    "#      Remove numbers greater than 50\n",
    "\n",
    "num_list = [10, 20, 30, 40, 50, 60, 70, 80, 90, 100]\n",
    "for i in reversed(range(len(num_list))):\n",
    "    item = num_list[i]\n",
    "    if item > 50:\n",
    "        num_list.remove(item)\n",
    "\n",
    "print(num_list)\n",
    "\n"
   ]
  },
  {
   "cell_type": "code",
   "execution_count": 8,
   "id": "32a6ef22",
   "metadata": {},
   "outputs": [
    {
     "name": "stdout",
     "output_type": "stream",
     "text": [
      "{65: 'A', 66: 'B', 67: 'C', 68: 'D'}\n"
     ]
    }
   ],
   "source": [
    "# 4.Write a python programme to reverse Dictionary mapping\n",
    "\n",
    "my_dict = {'A': 65, 'B': 66, 'C': 67, 'D': 68}\n",
    "reversed_dict = {}\n",
    "for key, value in my_dict.items():\n",
    "    reversed_dict[value] = key\n",
    "print(reversed_dict)\n"
   ]
  },
  {
   "cell_type": "code",
   "execution_count": 11,
   "id": "6311a9c1",
   "metadata": {},
   "outputs": [
    {
     "name": "stdout",
     "output_type": "stream",
     "text": [
      "[20, 30, 60]\n"
     ]
    }
   ],
   "source": [
    "#  5.   Write a python programme to display duplicate items from a list.\n",
    "#       sample_list = [10, 20, 60, 30, 20, 40, 30, 60, 70, 80]\n",
    "#       Expected Output : [20,60,30]\n",
    "\n",
    "\n",
    "samp_list = [10, 20, 60, 30, 20, 40, 30, 60, 70, 80]\n",
    "s = set()\n",
    "repeated = set()\n",
    "for item in samp_list:\n",
    "    if item in s:\n",
    "        repeated.add(item)\n",
    "    else:\n",
    "        s.add(item)\n",
    "repeated_list = list(repeated)\n",
    "print(list(repeated_list))\n",
    "\n"
   ]
  },
  {
   "cell_type": "code",
   "execution_count": null,
   "id": "c41349aa",
   "metadata": {},
   "outputs": [],
   "source": []
  }
 ],
 "metadata": {
  "kernelspec": {
   "display_name": "Python 3 (ipykernel)",
   "language": "python",
   "name": "python3"
  },
  "language_info": {
   "codemirror_mode": {
    "name": "ipython",
    "version": 3
   },
   "file_extension": ".py",
   "mimetype": "text/x-python",
   "name": "python",
   "nbconvert_exporter": "python",
   "pygments_lexer": "ipython3",
   "version": "3.11.5"
  }
 },
 "nbformat": 4,
 "nbformat_minor": 5
}
