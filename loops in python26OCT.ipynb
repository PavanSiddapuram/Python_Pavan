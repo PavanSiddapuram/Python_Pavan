{
 "cells": [
  {
   "cell_type": "code",
   "execution_count": 4,
   "id": "d69a04fa",
   "metadata": {},
   "outputs": [
    {
     "name": "stdout",
     "output_type": "stream",
     "text": [
      "Apple\n",
      "Banana\n",
      "Cat\n"
     ]
    }
   ],
   "source": [
    "#Loops syntax\n",
    "fruits = [\"Apple\",\"Banana\",\"Cat\"]\n",
    "for x in fruits:\n",
    " print(x)\n"
   ]
  },
  {
   "cell_type": "code",
   "execution_count": 6,
   "id": "c11264ae",
   "metadata": {},
   "outputs": [
    {
     "name": "stdout",
     "output_type": "stream",
     "text": [
      "b\n",
      "a\n",
      "n\n",
      "a\n",
      "n\n",
      "a\n"
     ]
    }
   ],
   "source": [
    "   for x in \"banana\":\n",
    "    print(x)"
   ]
  },
  {
   "cell_type": "code",
   "execution_count": 12,
   "id": "8daa3601",
   "metadata": {},
   "outputs": [
    {
     "name": "stdout",
     "output_type": "stream",
     "text": [
      "1\n",
      "2\n",
      "True\n",
      "cherry\n"
     ]
    }
   ],
   "source": [
    "#loop using Break statement\n",
    "fruits = [1,2,True,\"cherry\"]\n",
    "for x in fruits:\n",
    " print(x)\n",
    " if str(x) == True:\n",
    "  Break\n"
   ]
  },
  {
   "cell_type": "code",
   "execution_count": 38,
   "id": "d68cd916",
   "metadata": {},
   "outputs": [
    {
     "name": "stdout",
     "output_type": "stream",
     "text": [
      "banana\n",
      "cherry\n",
      "DRAGON\n"
     ]
    }
   ],
   "source": [
    "#loop using continue statement\n",
    "fruits = [\"apple\", \"banana\", \"cherry\", \"DRAGON\"]\n",
    "for x in fruits:\n",
    "  if x == \"apple\":\n",
    "    continue\n",
    "  print(x)"
   ]
  },
  {
   "cell_type": "code",
   "execution_count": 43,
   "id": "c1af133e",
   "metadata": {},
   "outputs": [
    {
     "name": "stdout",
     "output_type": "stream",
     "text": [
      "0\n",
      "1\n",
      "2\n",
      "3\n",
      "4\n",
      "5\n",
      "6\n",
      "7\n",
      "8\n",
      "9\n"
     ]
    }
   ],
   "source": [
    "#RANGE\n",
    "for x in range(0,10):\n",
    " print(x)"
   ]
  },
  {
   "cell_type": "code",
   "execution_count": 46,
   "id": "790e78a8",
   "metadata": {},
   "outputs": [
    {
     "name": "stdout",
     "output_type": "stream",
     "text": [
      "1\n",
      "2\n",
      "3\n",
      "4\n",
      "finished!\n"
     ]
    }
   ],
   "source": [
    "#else keyword\n",
    "\n",
    "for x in range(1,5):\n",
    " print(x)\n",
    "else:\n",
    " print(\"finished!\")"
   ]
  },
  {
   "cell_type": "code",
   "execution_count": 47,
   "id": "99ecef5a",
   "metadata": {},
   "outputs": [
    {
     "name": "stdout",
     "output_type": "stream",
     "text": [
      "apple red\n",
      "apple yellow\n",
      "apple pink\n",
      "banana red\n",
      "banana yellow\n",
      "banana pink\n",
      "cherry red\n",
      "cherry yellow\n",
      "cherry pink\n"
     ]
    }
   ],
   "source": [
    "#nested for\n",
    "obj =[\"apple\",\"banana\",\"cherry\"]\n",
    "clr =[\"red\",\"yellow\",\"pink\"]\n",
    "for x in obj:\n",
    "    for y in clr:\n",
    "        print(x,y)"
   ]
  },
  {
   "cell_type": "code",
   "execution_count": 57,
   "id": "73d2f3b4",
   "metadata": {},
   "outputs": [
    {
     "name": "stdout",
     "output_type": "stream",
     "text": [
      "0\n",
      "2\n",
      "4\n"
     ]
    }
   ],
   "source": [
    "#while \n",
    "i = 0\n",
    "while i < 5:\n",
    " print(i)\n",
    " i +=2"
   ]
  },
  {
   "cell_type": "code",
   "execution_count": 73,
   "id": "37526459",
   "metadata": {},
   "outputs": [
    {
     "name": "stdout",
     "output_type": "stream",
     "text": [
      "2\n",
      "4\n",
      "6\n",
      "8\n"
     ]
    }
   ],
   "source": [
    "#Break\n",
    "i = 2\n",
    "while i < 10:\n",
    "    print(i)\n",
    "    if i == 5:\n",
    "     break\n",
    "    i += 2\n",
    "    \n",
    "    \n"
   ]
  },
  {
   "cell_type": "code",
   "execution_count": 82,
   "id": "1ca4a992",
   "metadata": {},
   "outputs": [
    {
     "name": "stdout",
     "output_type": "stream",
     "text": [
      "1\n",
      "2\n",
      "3\n",
      "4\n",
      "6\n",
      "7\n",
      "8\n",
      "9\n",
      "10\n"
     ]
    }
   ],
   "source": [
    "#continue\n",
    "i = 0\n",
    "while i < 10:\n",
    "    i += 1\n",
    "    if i == 5:\n",
    "     continue\n",
    "    print(i)\n"
   ]
  },
  {
   "cell_type": "markdown",
   "id": "b47a78ec",
   "metadata": {},
   "source": [
    "# Conditional statement"
   ]
  },
  {
   "cell_type": "code",
   "execution_count": 90,
   "id": "ae3d55eb",
   "metadata": {},
   "outputs": [
    {
     "name": "stdout",
     "output_type": "stream",
     "text": [
      "200 is greater than 100 \n"
     ]
    }
   ],
   "source": [
    "#if\n",
    "a = 100\n",
    "b = 200\n",
    "if a<b:\n",
    "    print(f\"{b} is greater than {a} \")"
   ]
  },
  {
   "cell_type": "code",
   "execution_count": 109,
   "id": "2b2f0d21",
   "metadata": {},
   "outputs": [
    {
     "name": "stdout",
     "output_type": "stream",
     "text": [
      "250 is less than 300\n"
     ]
    }
   ],
   "source": [
    "#if else\n",
    "a = 250\n",
    "b = 300\n",
    "if a<b:\n",
    "    print(f\"{a} is less than {b}\")\n",
    "elif a == b:\n",
    "        print(f\"{a} and {b} are equal\")\n",
    "else:\n",
    "        (F\"{a} is greater than {b}\")\n"
   ]
  },
  {
   "cell_type": "code",
   "execution_count": 149,
   "id": "5d03e405",
   "metadata": {},
   "outputs": [
    {
     "name": "stdout",
     "output_type": "stream",
     "text": [
      "cherry\n",
      "caramel\n",
      "citrus\n"
     ]
    }
   ],
   "source": [
    "#startswith()\n",
    "fruits = ['apple', 'banana', 'cherry', 'caramel','citrus']\n",
    "for i in fruits:\n",
    "    if i.startswith('c'):\n",
    "        print(i)"
   ]
  },
  {
   "cell_type": "code",
   "execution_count": 170,
   "id": "9438a59f",
   "metadata": {},
   "outputs": [
    {
     "ename": "IndentationError",
     "evalue": "unindent does not match any outer indentation level (<tokenize>, line 11)",
     "output_type": "error",
     "traceback": [
      "\u001b[1;36m  File \u001b[1;32m<tokenize>:11\u001b[1;36m\u001b[0m\n\u001b[1;33m    else:\u001b[0m\n\u001b[1;37m    ^\u001b[0m\n\u001b[1;31mIndentationError\u001b[0m\u001b[1;31m:\u001b[0m unindent does not match any outer indentation level\n"
     ]
    }
   ],
   "source": [
    "# task\n",
    "\n",
    "# declare three variables (a,b,c)\n",
    "# use elif statemnet or if else ladder and print which is greater \n",
    "a = 100\n",
    "b = 200\n",
    "c = 300\n",
    "if a<b and  a<c:\n",
    "    print(\"a greater than b , c\")\n",
    "    print(\"b is greater than a, c\")\n",
    " else: \n",
    "     print(\"a is greater than b\")\n",
    "        \n",
    "    "
   ]
  },
  {
   "cell_type": "code",
   "execution_count": 171,
   "id": "ea51da4d",
   "metadata": {},
   "outputs": [
    {
     "name": "stdout",
     "output_type": "stream",
     "text": [
      "Above ten,\n",
      "not above 20.\n"
     ]
    }
   ],
   "source": [
    "# nested if \n",
    "\n",
    "x = 20\n",
    "\n",
    "if x > 15:\n",
    "  print(\"Above ten,\")\n",
    "  if x > 20:\n",
    "    print(\"above 20!\")\n",
    "    if x>30:\n",
    "        print(\"above 30 !\")\n",
    "  else:\n",
    "    print(\"not above 20.\")"
   ]
  },
  {
   "cell_type": "code",
   "execution_count": null,
   "id": "31545856",
   "metadata": {},
   "outputs": [],
   "source": []
  }
 ],
 "metadata": {
  "kernelspec": {
   "display_name": "Python 3 (ipykernel)",
   "language": "python",
   "name": "python3"
  },
  "language_info": {
   "codemirror_mode": {
    "name": "ipython",
    "version": 3
   },
   "file_extension": ".py",
   "mimetype": "text/x-python",
   "name": "python",
   "nbconvert_exporter": "python",
   "pygments_lexer": "ipython3",
   "version": "3.11.5"
  }
 },
 "nbformat": 4,
 "nbformat_minor": 5
}
