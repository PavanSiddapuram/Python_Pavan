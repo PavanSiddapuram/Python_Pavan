{
 "cells": [
  {
   "cell_type": "markdown",
   "id": "bbcf649b",
   "metadata": {},
   "source": [
    "# pandas Assignment 07 NOV"
   ]
  },
  {
   "cell_type": "code",
   "execution_count": 1,
   "id": "de86d92f",
   "metadata": {},
   "outputs": [
    {
     "name": "stdout",
     "output_type": "stream",
     "text": [
      "0     2\n",
      "1     4\n",
      "2     5\n",
      "3     6\n",
      "4     7\n",
      "5     9\n",
      "6    12\n",
      "7    15\n",
      "dtype: int64\n"
     ]
    }
   ],
   "source": [
    "#1.\tGiven a list, output the corresponding pandas series\n",
    "import pandas as pd\n",
    "\n",
    "List1=[2,4,5,6,7,9,12,15]\n",
    "myvar = pd.Series(List1)\n",
    "print(myvar)\n"
   ]
  },
  {
   "cell_type": "code",
   "execution_count": 4,
   "id": "d78790e6",
   "metadata": {},
   "outputs": [
    {
     "name": "stdout",
     "output_type": "stream",
     "text": [
      "1      2\n",
      "3      4\n",
      "5      5\n",
      "7      6\n",
      "9      7\n",
      "11     9\n",
      "13    12\n",
      "15    15\n",
      "dtype: int64\n"
     ]
    }
   ],
   "source": [
    "#2.\tGiven a list, output the corresponding pandas series with \todd indexes only\n",
    "\n",
    "import pandas as pd\n",
    "List1=[2,4,5,6,7,9,12,15]\n",
    "myvar = pd.Series(List1,index =[1,3,5,7,9,11,13,15])\n",
    "print(myvar)"
   ]
  },
  {
   "cell_type": "code",
   "execution_count": 5,
   "id": "c05dc0f3",
   "metadata": {},
   "outputs": [
    {
     "name": "stdout",
     "output_type": "stream",
     "text": [
      "  name  age         occ\n",
      "0  AAA   22    engineer\n",
      "1  BBB   25      doctor\n",
      "2  CCC   24  accountant\n"
     ]
    }
   ],
   "source": [
    "#3Given a dictionary, convert it into corresponding dataframe and display it\n",
    "import pandas as pd\n",
    "mydata = {'name': ['AAA', 'BBB', 'CCC'],\n",
    "              'age' : [22, 25, 24],\n",
    "              'occ' : ['engineer', 'doctor', 'accountant']}\n",
    "myvar = pd.DataFrame(mydata)\n",
    "print(myvar)\n"
   ]
  },
  {
   "cell_type": "code",
   "execution_count": 6,
   "id": "4c9d261c",
   "metadata": {},
   "outputs": [
    {
     "name": "stdout",
     "output_type": "stream",
     "text": [
      "   0    1   2\n",
      "0  2  AAA  22\n",
      "1  1  BBB  25\n",
      "2  1  CCC  24\n"
     ]
    }
   ],
   "source": [
    "#4.\tGiven a 2D List, convert it into corresponding dataframe \tand display it\n",
    "import pandas as pd\n",
    "list1 = [[2, 'AAA', 22],\n",
    "         \t  [1, 'BBB', 25],\n",
    "        \t\t  [1, 'CCC', 24]]\n",
    "myvar =pd.DataFrame(list1)\n",
    "print(myvar)\n"
   ]
  },
  {
   "cell_type": "code",
   "execution_count": 9,
   "id": "f8196a31",
   "metadata": {},
   "outputs": [
    {
     "name": "stdout",
     "output_type": "stream",
     "text": [
      "   1    2   3\n",
      "0  2  AAA  22\n",
      "1  1  BBB  25\n",
      "2  1  CCC  24\n"
     ]
    }
   ],
   "source": [
    "import pandas as pd\n",
    "list1 = [[2, 'AAA', 22],\n",
    "         \t  [1, 'BBB', 25],\n",
    "        \t\t  [1, 'CCC', 24]]\n",
    "myvar =pd.DataFrame(list1,columns=[1,2,3])\n",
    "print(myvar)\n"
   ]
  },
  {
   "cell_type": "code",
   "execution_count": 8,
   "id": "8a102d4c",
   "metadata": {},
   "outputs": [
    {
     "name": "stdout",
     "output_type": "stream",
     "text": [
      "DatetimeIndex(['2021-05-01', '2021-05-02', '2021-05-03', '2021-05-04',\n",
      "               '2021-05-05', '2021-05-06', '2021-05-07', '2021-05-08',\n",
      "               '2021-05-09', '2021-05-10', '2021-05-11', '2021-05-12'],\n",
      "              dtype='datetime64[ns]', freq='D')\n"
     ]
    }
   ],
   "source": [
    "#5.\tGenerate the series of dates from 1st May, 2021 to 12th \tMay, 2021 (both inclusive) \n",
    "import pandas as pd\n",
    "date = pd.date_range(start = '05-01-2021', end = '05-12-2021')\n",
    "\n",
    "print(date)"
   ]
  },
  {
   "cell_type": "code",
   "execution_count": null,
   "id": "2a2b66d1",
   "metadata": {},
   "outputs": [],
   "source": []
  }
 ],
 "metadata": {
  "kernelspec": {
   "display_name": "Python 3 (ipykernel)",
   "language": "python",
   "name": "python3"
  },
  "language_info": {
   "codemirror_mode": {
    "name": "ipython",
    "version": 3
   },
   "file_extension": ".py",
   "mimetype": "text/x-python",
   "name": "python",
   "nbconvert_exporter": "python",
   "pygments_lexer": "ipython3",
   "version": "3.11.5"
  }
 },
 "nbformat": 4,
 "nbformat_minor": 5
}
