{
 "cells": [
  {
   "cell_type": "code",
   "execution_count": 9,
   "id": "ca226214",
   "metadata": {},
   "outputs": [
    {
     "name": "stdout",
     "output_type": "stream",
     "text": [
      "Enter your age:19\n",
      "You are eligible for voting!:\n"
     ]
    }
   ],
   "source": [
    "#Write a programme to check whether a person is eligible for voting or not?(Hint:accept age from user).\n",
    "age = int(input(\"Enter your age:\"))\n",
    "\n",
    "if age <= 18:\n",
    "        print(\"Your are not  eligible:\")\n",
    "else:\n",
    "        print(\"You are eligible for voting!:\")\n",
    "          "
   ]
  },
  {
   "cell_type": "code",
   "execution_count": 17,
   "id": "f9ded2d6",
   "metadata": {},
   "outputs": [
    {
     "name": "stdout",
     "output_type": "stream",
     "text": [
      "Enter a number checking after it is even or odd:1123\n",
      "The number is odd:\n"
     ]
    }
   ],
   "source": [
    "#Write a programme to check whether a number entered by user is even or odd.\n",
    "num = int(input(\"Enter a number checking after it is even or odd:\"))\n",
    "if (num % 2) == 0:\n",
    "        print(\"The number is Even:\")\n",
    "else:\n",
    "     print(\"The number is odd:\")\n",
    " \n",
    "\n"
   ]
  },
  {
   "cell_type": "code",
   "execution_count": 34,
   "id": "0aaa1564",
   "metadata": {},
   "outputs": [
    {
     "name": "stdout",
     "output_type": "stream",
     "text": [
      "Enter the number :50505050\n",
      "Given no. is divisible by 5 \n"
     ]
    }
   ],
   "source": [
    "#Write a programme to check a number is divisible by 5 or not\n",
    "\n",
    "num = int (input (\"Enter the number :\"))\n",
    "if num % 5 == 0:\n",
    "        print(\"Given no. is divisible by 5 \")\n",
    "else:\n",
    "        print(\"Given no. is not divisible by 5\")\n",
    "\n",
    "\n",
    "\n"
   ]
  },
  {
   "cell_type": "code",
   "execution_count": 40,
   "id": "b41c3449",
   "metadata": {},
   "outputs": [
    {
     "name": "stdout",
     "output_type": "stream",
     "text": [
      "Enter a number :37\n",
      "Bye!\n"
     ]
    }
   ],
   "source": [
    "#Write a programme to display \"Hi\" if a number entered by user is a multiple of 3, otherwise print \"Bye\".\n",
    " \n",
    "num = int(input(\"Enter a number :\"))\n",
    "if num %  3 == 0:\n",
    "    print(\"Hi!\")\n",
    "else:\n",
    "    print(\"Bye!\")"
   ]
  },
  {
   "cell_type": "code",
   "execution_count": 1,
   "id": "a8e758a4",
   "metadata": {},
   "outputs": [
    {
     "name": "stdout",
     "output_type": "stream",
     "text": [
      "Enter your marks :78\n",
      "C Grade\n"
     ]
    }
   ],
   "source": [
    "#Write a programme to accept percentage from the user and display the grade according to the following criteria.\n",
    "num = int(input(\"Enter your marks :\"))\n",
    "if num > 90:\n",
    "    print(\"A Grade\")\n",
    "elif num > 80 and  num <=90:\n",
    "    print(\"B Grade\")\n",
    "elif num >=60 and num <=80:\n",
    "    print(\"C Grade\")\n",
    "else:\n",
    "    print(\" Keep Struggle!\")\n",
    "    \n",
    "\n",
    "        "
   ]
  },
  {
   "cell_type": "code",
   "execution_count": 74,
   "id": "02e13489",
   "metadata": {},
   "outputs": [
    {
     "name": "stdout",
     "output_type": "stream",
     "text": [
      "Number of elements in list are :\n",
      "5\n"
     ]
    }
   ],
   "source": [
    "#Write a python for loop to count the number of elements in a list.\n",
    "list = [1, 2, \"Hello\", True , 4.5]\n",
    "count = 0\n",
    "for i in list:\n",
    "    count = count + 1\n",
    "print(\"Number of elements in list are :\")\n",
    "print(count)\n",
    "\n",
    "\n",
    "      \n",
    "    \n",
    "   "
   ]
  },
  {
   "cell_type": "code",
   "execution_count": 4,
   "id": "7291a50c",
   "metadata": {},
   "outputs": [
    {
     "name": "stdout",
     "output_type": "stream",
     "text": [
      "        * \n",
      "      * * * \n",
      "    * * * * * \n",
      "  * * * * * * * \n",
      "* * * * * * * * * \n"
     ]
    }
   ],
   "source": [
    "#Write a python for loop to print a triangle of stars.\n",
    "Rows = 5\n",
    "for i in  range (1,Rows +1):\n",
    "    for j in range(Rows - i):\n",
    "        print(\" \", end =\" \")\n",
    "    for k in range(2 * i -1):\n",
    "            print(\"*\", end = \" \" )\n",
    "    print()\n",
    "\n",
    "\n"
   ]
  },
  {
   "cell_type": "code",
   "execution_count": 92,
   "id": "24799ea1",
   "metadata": {},
   "outputs": [
    {
     "name": "stdout",
     "output_type": "stream",
     "text": [
      "[1, 3, 5, 7, 9]\n",
      "[45, 56, 1, 3, 5, 7, 9]\n"
     ]
    }
   ],
   "source": [
    "#Write a python for loop to copy elements from one list to another.\n",
    "\n",
    "list = [1, 3, 5, 7, 9]\n",
    "new_list = [45,56]\n",
    "for i in list:\n",
    "    new_list.append(i)\n",
    "print(list)\n",
    "print(new_list)\n",
    "              \n",
    "    \n",
    "\n",
    "\n"
   ]
  },
  {
   "cell_type": "code",
   "execution_count": 70,
   "id": "86818613",
   "metadata": {},
   "outputs": [
    {
     "name": "stdout",
     "output_type": "stream",
     "text": [
      "[1, 2, 3, 45, 76, 78, 98]\n"
     ]
    }
   ],
   "source": [
    "#Write a python for loop to sort the numbers in a list in ascending order..\n",
    "\n",
    "list =[2,3,1,78,45,76,98]\n",
    "list.sort()\n",
    "print(list)\n",
    "\n",
    "\n"
   ]
  },
  {
   "cell_type": "code",
   "execution_count": 63,
   "id": "cb285fa6",
   "metadata": {},
   "outputs": [
    {
     "name": "stdout",
     "output_type": "stream",
     "text": [
      "Enter a number30\n",
      "0\n",
      "3\n",
      "6\n",
      "9\n",
      "12\n",
      "15\n",
      "18\n",
      "21\n",
      "24\n",
      "27\n"
     ]
    }
   ],
   "source": [
    "#Write a python for loop to print the multiples of 3 using range() function.\n",
    "num =int(input(\"Enter a number\"))\n",
    "for m in range(num):\n",
    "    if m % 3 == 0:\n",
    "        print(m)\n"
   ]
  },
  {
   "cell_type": "code",
   "execution_count": 27,
   "id": "2089545d",
   "metadata": {},
   "outputs": [
    {
     "name": "stdout",
     "output_type": "stream",
     "text": [
      "5\n",
      "4\n",
      "3\n",
      "2\n",
      "1\n"
     ]
    }
   ],
   "source": [
    "#Write a python for loop to print the numbers in reverse order using range() function.\n",
    "num = [1, 2,3,4,5]\n",
    "\n",
    "for i in range(5,0,-1):\n",
    "    \n",
    "    print(i)\n",
    "\n",
    "                        "
   ]
  },
  {
   "cell_type": "code",
   "execution_count": 47,
   "id": "53cea581",
   "metadata": {},
   "outputs": [
    {
     "name": "stdout",
     "output_type": "stream",
     "text": [
      "21\n",
      "22\n",
      "23\n",
      "24\n",
      "25\n"
     ]
    }
   ],
   "source": [
    "#Print the items in a tuple using while loop.\n",
    "tuple = (21, 22, 23, 24, 25)\n",
    "i = 0\n",
    "while i < len(tuple):\n",
    "    print(tuple[i])\n",
    "    i = i+1        \n",
    "        "
   ]
  },
  {
   "cell_type": "code",
   "execution_count": 73,
   "id": "048a0172",
   "metadata": {},
   "outputs": [
    {
     "name": "stdout",
     "output_type": "stream",
     "text": [
      "sum of numbers : 0\n",
      "sum of numbers : 2\n",
      "sum of numbers : 6\n",
      "sum of numbers : 12\n",
      "sum of numbers : 20\n",
      "sum of numbers : 30\n"
     ]
    }
   ],
   "source": [
    "#Find the sum of numbers in a list using while loop.\n",
    "list = [0, 2, 4, 6, 8, 10]\n",
    "list_sum = 0\n",
    "i = 0\n",
    "while i < len(list):\n",
    "    list_sum += list[i]\n",
    "    i += 1\n",
    "    print(\"sum of numbers :\", list_sum)\n",
    "    \n",
    "    \n",
    "    \n",
    "    \n",
    "\n",
    "\n"
   ]
  },
  {
   "cell_type": "code",
   "execution_count": 2,
   "id": "eda97675",
   "metadata": {},
   "outputs": [
    {
     "name": "stdout",
     "output_type": "stream",
     "text": [
      "M T R Z "
     ]
    }
   ],
   "source": [
    "#Print all letters in \"Mytraz\" except \"y\" and \"a\" using Python while loop.\n",
    "\n",
    "team = \"MITRAZ\"\n",
    "i =0\n",
    "while i < len(team):\n",
    "    if team[i] != \"I\" and team[i] != \"A\":\n",
    "        \n",
    "        print(team[i],end=\" \")\n",
    "    i =i+1"
   ]
  },
  {
   "cell_type": "code",
   "execution_count": 16,
   "id": "89cfee38",
   "metadata": {},
   "outputs": [
    {
     "name": "stdout",
     "output_type": "stream",
     "text": [
      "Enter a decimal number: 8\n",
      "Binary representation: 1000\n"
     ]
    }
   ],
   "source": [
    "#Convert numbers from decimal to binary using while loop.\n",
    "decimal_num = int(input(\"Enter a decimal number: \"))\n",
    "binary_num = ''\n",
    "\n",
    "if decimal_num == 0:  \n",
    "    binary_num = '0'\n",
    "else:\n",
    "    while decimal_num > 0:\n",
    "        remainder = decimal_num % 2\n",
    "        binary_num = str(remainder) + binary_num\n",
    "        decimal_num = decimal_num // 2\n",
    "\n",
    "print(\"Binary representation:\", binary_num)\n",
    "\n"
   ]
  },
  {
   "cell_type": "code",
   "execution_count": 10,
   "id": "16dc010b",
   "metadata": {},
   "outputs": [
    {
     "name": "stdout",
     "output_type": "stream",
     "text": [
      "number of values4\n",
      "enter a number5\n",
      "enter a number6\n",
      "enter a number6\n",
      "enter a number7\n",
      "6.0\n"
     ]
    }
   ],
   "source": [
    "#Find the average of 5 numbers using while loop(accept numbers from user).\n",
    "num = int(input(\"number of values\"))\n",
    "count = 0\n",
    "i = 0\n",
    "while i<num:\n",
    "    num2= int(input(\"enter a number\"))\n",
    "    count +=num2\n",
    "    i = i+1\n",
    "avg = count/num\n",
    "print(avg)\n",
    "    \n",
    "    \n",
    "\n",
    "    \n",
    "\n"
   ]
  },
  {
   "cell_type": "code",
   "execution_count": 14,
   "id": "96c660ea",
   "metadata": {},
   "outputs": [
    {
     "name": "stdout",
     "output_type": "stream",
     "text": [
      "1 \t 1\n",
      "2 \t 4\n",
      "3 \t 9\n",
      "4 \t 16\n",
      "5 \t 25\n"
     ]
    }
   ],
   "source": [
    "# Print the square of numbers from 1 to 5 using while loop.\n",
    "n = 1\n",
    "while n <=5:\n",
    "    print(n,'\\t',n**2)\n",
    "    n+=1"
   ]
  },
  {
   "cell_type": "code",
   "execution_count": null,
   "id": "9c18e19d",
   "metadata": {},
   "outputs": [],
   "source": []
  }
 ],
 "metadata": {
  "kernelspec": {
   "display_name": "Python 3 (ipykernel)",
   "language": "python",
   "name": "python3"
  },
  "language_info": {
   "codemirror_mode": {
    "name": "ipython",
    "version": 3
   },
   "file_extension": ".py",
   "mimetype": "text/x-python",
   "name": "python",
   "nbconvert_exporter": "python",
   "pygments_lexer": "ipython3",
   "version": "3.11.5"
  }
 },
 "nbformat": 4,
 "nbformat_minor": 5
}
