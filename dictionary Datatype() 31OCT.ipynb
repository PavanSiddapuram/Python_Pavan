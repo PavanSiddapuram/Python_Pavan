{
 "cells": [
  {
   "cell_type": "markdown",
   "id": "c0893686",
   "metadata": {},
   "source": [
    "# dictionary()"
   ]
  },
  {
   "cell_type": "code",
   "execution_count": 12,
   "id": "26b19dbf",
   "metadata": {},
   "outputs": [
    {
     "name": "stdout",
     "output_type": "stream",
     "text": [
      "{'Name': 'pavan', 'Age': 22, 'Place': 'ATP'}\n"
     ]
    }
   ],
   "source": [
    "#Dictionary\n",
    "thisdict = {\"Name\":\"pavan\",\n",
    "            \"Age\": 22,\n",
    "            \"Place\": \"ATP\"}\n",
    "print (thisdict)"
   ]
  },
  {
   "cell_type": "code",
   "execution_count": 15,
   "id": "48c6333a",
   "metadata": {},
   "outputs": [
    {
     "name": "stdout",
     "output_type": "stream",
     "text": [
      "{'name': 'apple', 'color': 'red', 'Quantity': 20}\n"
     ]
    }
   ],
   "source": [
    "thisdict ={\"name\":\"apple\",\n",
    "          \"color\":\"red\",\n",
    "          \"Quantity\":20}\n",
    "print(thisdict)"
   ]
  },
  {
   "cell_type": "code",
   "execution_count": 21,
   "id": "d611b20b",
   "metadata": {},
   "outputs": [
    {
     "name": "stdout",
     "output_type": "stream",
     "text": [
      "google\n"
     ]
    }
   ],
   "source": [
    "thisdict = {\"company\":\"google\",\"Employees\":1000000,\"Estd\":2000}\n",
    "print(thisdict[\"company\"])"
   ]
  },
  {
   "cell_type": "code",
   "execution_count": 25,
   "id": "34c656ef",
   "metadata": {},
   "outputs": [
    {
     "name": "stdout",
     "output_type": "stream",
     "text": [
      "{'brand': 'LV', 'model': 'accessories', 'year': 1972}\n"
     ]
    }
   ],
   "source": [
    "thisdict = {\"brand\":\"LV\",\n",
    "           \"model\":\"accessories\",\n",
    "           \"year\":1960,\n",
    "           \"year\":1972}\n",
    "print(thisdict)"
   ]
  },
  {
   "cell_type": "code",
   "execution_count": 31,
   "id": "9482d6b3",
   "metadata": {},
   "outputs": [
    {
     "name": "stdout",
     "output_type": "stream",
     "text": [
      "{'brand': 'ola', 'electric': True, 'color': ['red', 'green', 'yellow']}\n"
     ]
    }
   ],
   "source": [
    "#The values in dictionary items can be of any data type:\n",
    "thisdict = {\"brand\":\"ola\",\n",
    "            \n",
    "           \"electric\":True,\n",
    "           \"color\":[\"red\",\"green\",\"yellow\"]}\n",
    "print(thisdict)"
   ]
  },
  {
   "cell_type": "code",
   "execution_count": 29,
   "id": "8bb207f6",
   "metadata": {},
   "outputs": [
    {
     "name": "stdout",
     "output_type": "stream",
     "text": [
      "{'name': 'arun', 'age': 22, 'average': 78.3}\n"
     ]
    }
   ],
   "source": [
    "#dict() constructor\n",
    "thisdict = dict(name=\"arun\",age= 22,average=78.3)\n",
    "print(thisdict)"
   ]
  },
  {
   "cell_type": "code",
   "execution_count": 33,
   "id": "91a89b80",
   "metadata": {},
   "outputs": [
    {
     "name": "stdout",
     "output_type": "stream",
     "text": [
      "{'name': 'kia', 'model': 'seltos', 'year': 2021, 'color': 'white', 'engine': 'Turbo897'}\n"
     ]
    }
   ],
   "source": [
    "#adding extra key value pairs\n",
    "thisdict = {\"name\":\"kia\",\"model\":\"seltos\",\"year\":2021}\n",
    "thisdict[\"color\"]= \"white\"\n",
    "\n",
    "thisdict[\"engine\"]=\"Turbo897\"\n",
    "print(thisdict)"
   ]
  },
  {
   "cell_type": "code",
   "execution_count": 39,
   "id": "e5bfd082",
   "metadata": {},
   "outputs": [
    {
     "name": "stdout",
     "output_type": "stream",
     "text": [
      "seltos\n",
      "2021\n"
     ]
    }
   ],
   "source": [
    "#access\n",
    "thisdict = {\"name\":\"kia\",\"model\":\"seltos\",\"year\":2021}\n",
    "x =thisdict[\"model\"]\n",
    "print(x)\n",
    "x = thisdict.get(\"year\") #get() method\n",
    "print(x)"
   ]
  },
  {
   "cell_type": "code",
   "execution_count": 44,
   "id": "d1bc0926",
   "metadata": {},
   "outputs": [
    {
     "name": "stdout",
     "output_type": "stream",
     "text": [
      "dict_keys(['name', 'model', 'year'])\n"
     ]
    }
   ],
   "source": [
    "# keys() - it will return all the keys in the dictionary we created \n",
    "thisdict = {\"name\":\"kia\",\"model\":\"seltos\",\"year\":2021}\n",
    "x =thisdict.keys()\n",
    "print(x)"
   ]
  },
  {
   "cell_type": "code",
   "execution_count": 46,
   "id": "2e7afdf1",
   "metadata": {},
   "outputs": [
    {
     "name": "stdout",
     "output_type": "stream",
     "text": [
      "dict_keys(['name', 'model', 'version'])\n",
      "{'name': 'xiaomi', 'model': 'note13', 'version': 13, 'ram': 12}\n"
     ]
    }
   ],
   "source": [
    "phone = {\"name\":\"xiaomi\",\"model\":\"note13\",\"version\":13 }\n",
    "a = phone.keys()\n",
    "print(a)\n",
    "phone[\"ram\"]=12\n",
    "print(phone)"
   ]
  },
  {
   "cell_type": "code",
   "execution_count": 47,
   "id": "a1f55d23",
   "metadata": {},
   "outputs": [
    {
     "name": "stdout",
     "output_type": "stream",
     "text": [
      "dict_values(['pavan', 9876544389, 'ATP'])\n"
     ]
    }
   ],
   "source": [
    "# values() - it will return all the values in the dictionary we created \n",
    "thisdict = {\"name\":\"pavan\",\"phone\":9876544389,\"place\":\"ATP\"}\n",
    "a = thisdict.values()\n",
    "print(a)"
   ]
  },
  {
   "cell_type": "code",
   "execution_count": 50,
   "id": "face42f3",
   "metadata": {},
   "outputs": [
    {
     "name": "stdout",
     "output_type": "stream",
     "text": [
      "dict_values(['pavan', 9876544389, 'ATP'])\n",
      "dict_values(['pavan', 9100000000, 'ATP'])\n"
     ]
    }
   ],
   "source": [
    "thisdict = {\"name\":\"pavan\",\"phone\":9876544389,\"place\":\"ATP\"}\n",
    "a = thisdict.values()\n",
    "print(a)\n",
    "thisdict[\"phone\"] = 9100000000\n",
    "print(a)"
   ]
  },
  {
   "cell_type": "code",
   "execution_count": 52,
   "id": "fcc8f59b",
   "metadata": {},
   "outputs": [
    {
     "name": "stdout",
     "output_type": "stream",
     "text": [
      "dict_values(['pavan', 9876544389, 'ATP'])\n",
      "dict_values(['pavan', 9876544389, 'ATP', 21])\n"
     ]
    }
   ],
   "source": [
    "thisdict = {\"name\":\"pavan\",\"phone\":9876544389,\"place\":\"ATP\"}\n",
    "a = thisdict.values()\n",
    "print(a)\n",
    "thisdict[\"age\"]=21\n",
    "print(a)"
   ]
  },
  {
   "cell_type": "code",
   "execution_count": 54,
   "id": "a9e20d21",
   "metadata": {},
   "outputs": [
    {
     "name": "stdout",
     "output_type": "stream",
     "text": [
      "dict_items([('brand', 'Ford'), ('model', 'Mustang'), ('year', 2020), ('color', 'Black'), ('city', 'Hyd')])\n"
     ]
    }
   ],
   "source": [
    "car = {'brand': 'Ford','model': 'Mustang','year': 2020,'color': 'Black','city': 'Hyd'}\n",
    "x = car.items()\n",
    "print(x)"
   ]
  },
  {
   "cell_type": "code",
   "execution_count": 58,
   "id": "52f6021f",
   "metadata": {},
   "outputs": [
    {
     "name": "stdout",
     "output_type": "stream",
     "text": [
      "{'name': 'Ferrari', 'model': 'Gt', 'year': 1897}\n",
      "{'name': 'Ferrari', 'model': 'Gt', 'year': 1901}\n"
     ]
    }
   ],
   "source": [
    "# change dict\n",
    "thisdict = {\"name\":\"Ferrari\",\"model\":\"Gt\",\"year\":1897}\n",
    "print(thisdict)\n",
    "thisdict[\"year\"]= 1901\n",
    "print(thisdict)"
   ]
  },
  {
   "cell_type": "code",
   "execution_count": 61,
   "id": "f33ded5c",
   "metadata": {},
   "outputs": [
    {
     "name": "stdout",
     "output_type": "stream",
     "text": [
      "{'company': 'tata', 'model': 'nexon', 'year': 1987}\n"
     ]
    }
   ],
   "source": [
    "#update()\n",
    "thisdict = {\"company\":\"ford\",\"model\":\"ecosport\",\"year\":1987}\n",
    "thisdict.update({\"company\":\"tata\",\"model\":\"nexon\"})\n",
    "print(thisdict)"
   ]
  },
  {
   "cell_type": "code",
   "execution_count": 65,
   "id": "05551e3d",
   "metadata": {},
   "outputs": [
    {
     "name": "stdout",
     "output_type": "stream",
     "text": [
      "{'name': 'ford', 'model': 'mustang', 'year': 2020, 'years': 2022, 'color': 'red'}\n"
     ]
    }
   ],
   "source": [
    "thisdict = {\"name\":\"ford\",\"model\":\"mustang\",\"year\":2020}\n",
    "thisdict.update({\"years\":2022})\n",
    "thisdict[\"color\"]= \"red\"\n",
    "print(thisdict)"
   ]
  },
  {
   "cell_type": "code",
   "execution_count": 69,
   "id": "075959b0",
   "metadata": {},
   "outputs": [
    {
     "name": "stdout",
     "output_type": "stream",
     "text": [
      "{'name': 'Ferrari', 'model': 'GT650', 'year': 1964, 'color': 'red'}\n"
     ]
    }
   ],
   "source": [
    "#ADD\n",
    "thisdict = {\n",
    "  \"name\": \"Ferrari\",\n",
    "  \"model\": \"GT650\",\n",
    "  \"year\": 1964\n",
    "}\n",
    "thisdict[\"color\"] = \"red\"\n",
    "print(thisdict)"
   ]
  },
  {
   "cell_type": "code",
   "execution_count": 72,
   "id": "dd884b94",
   "metadata": {},
   "outputs": [
    {
     "name": "stdout",
     "output_type": "stream",
     "text": [
      "{'name': 'Tata', 'year': 2016}\n"
     ]
    }
   ],
   "source": [
    "thisdict = {\"name\":\"Tata\",\"model\":\"Nexon\",\"year\":2016}\n",
    "thisdict.pop(\"model\",\"year\")\n",
    "print(thisdict)"
   ]
  },
  {
   "cell_type": "code",
   "execution_count": 74,
   "id": "c6927a58",
   "metadata": {},
   "outputs": [
    {
     "name": "stdout",
     "output_type": "stream",
     "text": [
      "{'name': 'Tata', 'model': 'Nexon'}\n"
     ]
    }
   ],
   "source": [
    "thisdict = {\"name\":\"Tata\",\"model\":\"Nexon\",\"year\":2016}\n",
    "thisdict.popitem()\n",
    "print(thisdict)"
   ]
  },
  {
   "cell_type": "code",
   "execution_count": 76,
   "id": "0cf56316",
   "metadata": {},
   "outputs": [
    {
     "name": "stdout",
     "output_type": "stream",
     "text": [
      "{'model': 'Nexon', 'year': 2016}\n"
     ]
    }
   ],
   "source": [
    "#delete()\n",
    "thisdict = {\"name\":\"Tata\",\"model\":\"Nexon\",\"year\":2016}\n",
    "del thisdict[\"name\"]\n",
    "print(thisdict)"
   ]
  },
  {
   "cell_type": "code",
   "execution_count": 78,
   "id": "5325ef6f",
   "metadata": {},
   "outputs": [
    {
     "name": "stdout",
     "output_type": "stream",
     "text": [
      "{}\n"
     ]
    }
   ],
   "source": [
    "#clear\n",
    "thisdict = {\"company\":\"apple\",\"model\":\"m2\",\"catagory\":\"laptop\"}\n",
    "thisdict.clear()\n",
    "\n",
    "print(thisdict)"
   ]
  },
  {
   "cell_type": "code",
   "execution_count": 109,
   "id": "27f45fd3",
   "metadata": {},
   "outputs": [
    {
     "name": "stdout",
     "output_type": "stream",
     "text": [
      "brand\n",
      "model\n",
      "year\n",
      "color\n"
     ]
    }
   ],
   "source": [
    "#Loop()\n",
    "thisdict = {\"brand\": \"Ford\",\"model\": \"Mustang\",\"year\": 1964,\"color\":\"red\"}\n",
    "for x in thisdict:\n",
    "    print(x)\n",
    "      "
   ]
  },
  {
   "cell_type": "code",
   "execution_count": 108,
   "id": "f64a1e4a",
   "metadata": {},
   "outputs": [
    {
     "name": "stdout",
     "output_type": "stream",
     "text": [
      "Ford\n",
      "Mustang\n",
      "1964\n",
      "red\n"
     ]
    }
   ],
   "source": [
    "thisdict = {\"brand\": \"Ford\",\"model\": \"Mustang\",\"year\": 1964,\"color\":\"red\"}\n",
    "for x in thisdict:\n",
    "    print(thisdict[x])"
   ]
  },
  {
   "cell_type": "code",
   "execution_count": 93,
   "id": "b4809c55",
   "metadata": {},
   "outputs": [
    {
     "name": "stdout",
     "output_type": "stream",
     "text": [
      "dict_keys(['brand', 'model', 'year', 'color'])\n",
      "dict_values(['Ford', 'Mustang', 1964, 'red'])\n"
     ]
    }
   ],
   "source": [
    "thisdict = {\"brand\": \"Ford\",\"model\": \"Mustang\",\"year\": 1964,\"color\":\"red\"}\n",
    "print (thisdict.keys())\n",
    "print(thisdict.values())\n"
   ]
  },
  {
   "cell_type": "code",
   "execution_count": 98,
   "id": "ef7bf07b",
   "metadata": {},
   "outputs": [
    {
     "name": "stdout",
     "output_type": "stream",
     "text": [
      "dict_items([('brand', 'Ford'), ('model', 'Mustang'), ('year', 1964), ('color', 'red')])\n",
      "brand Ford\n",
      "model Mustang\n",
      "year 1964\n",
      "color red\n"
     ]
    }
   ],
   "source": [
    "thisdict = {\"brand\": \"Ford\",\"model\": \"Mustang\",\"year\": 1964,\"color\":\"red\"}\n",
    "print(thisdict.items())\n",
    "for x,y in thisdict.items():\n",
    "    print(x,y)"
   ]
  },
  {
   "cell_type": "code",
   "execution_count": 113,
   "id": "40c77ae6",
   "metadata": {},
   "outputs": [
    {
     "name": "stdout",
     "output_type": "stream",
     "text": [
      "lenn\n",
      "12\n"
     ]
    }
   ],
   "source": [
    "# nested dictionaries\n",
    "myfamily ={ \"child1\" :{\"name\":\"John\",\"age\":[10,11,12]},\n",
    "           \"child2\" :{\"name\":\"michel\",\"age\":13},\n",
    "           \"child3\" :{\"name\":\"lenn\",\"age\":15}}\n",
    "print(myfamily[\"child3\"][\"name\"])\n",
    "print(myfamily[\"child1\"][\"age\"][2])\n",
    "                       "
   ]
  },
  {
   "cell_type": "code",
   "execution_count": null,
   "id": "fa838c73",
   "metadata": {},
   "outputs": [],
   "source": []
  }
 ],
 "metadata": {
  "kernelspec": {
   "display_name": "Python 3 (ipykernel)",
   "language": "python",
   "name": "python3"
  },
  "language_info": {
   "codemirror_mode": {
    "name": "ipython",
    "version": 3
   },
   "file_extension": ".py",
   "mimetype": "text/x-python",
   "name": "python",
   "nbconvert_exporter": "python",
   "pygments_lexer": "ipython3",
   "version": "3.11.5"
  }
 },
 "nbformat": 4,
 "nbformat_minor": 5
}
