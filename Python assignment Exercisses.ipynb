{
 "cells": [
  {
   "cell_type": "markdown",
   "id": "43375fc6",
   "metadata": {},
   "source": [
    "# python assignment Exercises"
   ]
  },
  {
   "cell_type": "code",
   "execution_count": 5,
   "id": "c33cb45e",
   "metadata": {},
   "outputs": [
    {
     "name": "stdout",
     "output_type": "stream",
     "text": [
      "6\n"
     ]
    }
   ],
   "source": [
    "#1. Write a Python function to find the maximum of three numbers.\n",
    "def max_num(a,b,c):\n",
    "    \n",
    "    if a>b :\n",
    "        return a\n",
    "    if b>c:\n",
    "        return b\n",
    "    if a>c:\n",
    "        return c\n",
    "\n",
    "print(max_num(6,3,-8))\n",
    "   "
   ]
  },
  {
   "cell_type": "code",
   "execution_count": 6,
   "id": "9d5d484b",
   "metadata": {},
   "outputs": [],
   "source": [
    "# 2. Write a Python function to sum all the numbers in a list.\n",
    "# Sample List : (8, 2, 3, 0, 7)\n",
    "def num_sum(list):\n",
    "    list =[8,2,3,0,7]\n",
    "    for i in list:\n",
    "        list.append(sum(int(digit) for digit in list(str(i))))\n",
    "        return list\n",
    "        \n",
    "        \n",
    "    \n",
    "    "
   ]
  },
  {
   "cell_type": "code",
   "execution_count": 36,
   "id": "155a190d",
   "metadata": {},
   "outputs": [
    {
     "name": "stdout",
     "output_type": "stream",
     "text": [
      "20\n"
     ]
    }
   ],
   "source": [
    "def sum_lst(lst):\n",
    "    total = 0\n",
    "    for x in lst:\n",
    "        total += x\n",
    "    return total\n",
    "print(sum_lst((8,2,3,0,7)))\n",
    "    \n",
    "\n"
   ]
  },
  {
   "cell_type": "code",
   "execution_count": 58,
   "id": "5179cc0e",
   "metadata": {},
   "outputs": [
    {
     "name": "stdout",
     "output_type": "stream",
     "text": [
      "-336\n"
     ]
    }
   ],
   "source": [
    "# 3. Write a Python function to multiply all the numbers in a list.\n",
    "# Sample List : (8, 2, 3, -1, 7)\n",
    "def mul(num):\n",
    "    total = 1\n",
    "    for y in num:\n",
    "        total *= y\n",
    "    return total\n",
    "print(mul((8, 2, 3, -1, 7)))\n"
   ]
  },
  {
   "cell_type": "code",
   "execution_count": 62,
   "id": "e2e4283e",
   "metadata": {},
   "outputs": [
    {
     "name": "stdout",
     "output_type": "stream",
     "text": [
      "dcba4321\n",
      "dcba4321\n"
     ]
    }
   ],
   "source": [
    "# 4. Write a Python program to reverse a string.\n",
    "# Sample String : \"1234abcd\"\n",
    "# Expected Output : \"dcba4321\"\n",
    "\n",
    "def reverse(s):\n",
    "    return s [::-1]\n",
    "print(reverse(\"1234abcd\"))\n",
    "print(my_str)\n"
   ]
  },
  {
   "cell_type": "code",
   "execution_count": 96,
   "id": "a8c01421",
   "metadata": {},
   "outputs": [
    {
     "name": "stdout",
     "output_type": "stream",
     "text": [
      "Input the factiorial  is : 23\n",
      "25852016738884976640000\n"
     ]
    }
   ],
   "source": [
    "# #5. Write a Python function to calculate the factorial of a number (a non-negative integer).\n",
    "# The function accepts the number as an argument.\n",
    "def fact(n):\n",
    "    if n == 0:\n",
    "        return 1\n",
    "    else:\n",
    "        return n * fact(n-1)\n",
    "n=int(input(\"Input the factiorial  is : \"))\n",
    "print(fact(n))\n"
   ]
  },
  {
   "cell_type": "code",
   "execution_count": 111,
   "id": "f366bb17",
   "metadata": {},
   "outputs": [
    {
     "name": "stdout",
     "output_type": "stream",
     "text": [
      "6 Is in the range\n"
     ]
    }
   ],
   "source": [
    "# 6. Write a Python function to check whether a number falls within a given range.\n",
    "def in_range(n):\n",
    "    if n in range(5,10):\n",
    "        print(n,\"is in the range\")\n",
    "    else:\n",
    "        print(\"The number is out of the range.\")\n",
    "in_range(6)\n"
   ]
  },
  {
   "cell_type": "code",
   "execution_count": 121,
   "id": "a6e10742",
   "metadata": {},
   "outputs": [
    {
     "name": "stdout",
     "output_type": "stream",
     "text": [
      "No of Upper case :  1\n",
      "No of lower case :  1\n",
      "No of Upper case :  1\n",
      "No of lower case :  2\n",
      "No of Upper case :  2\n",
      "No of lower case :  3\n",
      "No of Upper case :  2\n",
      "No of lower case :  4\n",
      "No of Upper case :  2\n",
      "No of lower case :  5\n",
      "No of Upper case :  2\n",
      "No of lower case :  6\n",
      "No of Upper case :  3\n",
      "No of lower case :  7\n",
      "No of Upper case :  3\n",
      "No of lower case :  8\n",
      "No of Upper case :  3\n",
      "No of lower case :  9\n",
      "No of Upper case :  4\n",
      "No of lower case :  10\n",
      "No of Upper case :  4\n",
      "No of lower case :  11\n"
     ]
    }
   ],
   "source": [
    "# #7. Write a Python function that accepts a string and counts the number of upper and lower case letters.\n",
    "# Sample String : 'The quick Brow Fox'\n",
    "# Expected Output :\n",
    "# No. of Upper case characters : 3\n",
    "# No. of Lower case Characters : 12\n",
    "def count(s):\n",
    "    upper_count = 0\n",
    "    lower_count = 0\n",
    "    for i in s:\n",
    "        if i.isupper():\n",
    "            upper_count +=1\n",
    "        elif i.islower():\n",
    "                lower_count +=1\n",
    "                print(\"No of Upper case : \",upper_count)\n",
    "                print(\"No of lower case : \",lower_count)\n",
    "count(\"The Quick Brow Box\")\n",
    "            \n"
   ]
  },
  {
   "cell_type": "code",
   "execution_count": null,
   "id": "cbf9d38f",
   "metadata": {},
   "outputs": [],
   "source": []
  }
 ],
 "metadata": {
  "kernelspec": {
   "display_name": "Python 3 (ipykernel)",
   "language": "python",
   "name": "python3"
  },
  "language_info": {
   "codemirror_mode": {
    "name": "ipython",
    "version": 3
   },
   "file_extension": ".py",
   "mimetype": "text/x-python",
   "name": "python",
   "nbconvert_exporter": "python",
   "pygments_lexer": "ipython3",
   "version": "3.11.5"
  }
 },
 "nbformat": 4,
 "nbformat_minor": 5
}
