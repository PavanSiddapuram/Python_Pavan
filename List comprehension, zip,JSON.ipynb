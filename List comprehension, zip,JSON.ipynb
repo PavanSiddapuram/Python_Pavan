{
 "cells": [
  {
   "cell_type": "markdown",
   "id": "acdb9930",
   "metadata": {},
   "source": [
    "# list comprehension"
   ]
  },
  {
   "cell_type": "code",
   "execution_count": 6,
   "id": "6dde9bff",
   "metadata": {},
   "outputs": [
    {
     "name": "stdout",
     "output_type": "stream",
     "text": [
      "['Dragon', 'orange']\n"
     ]
    }
   ],
   "source": [
    "fruits = [\"apple\",\"banana\",\"cherry\",\"Dragon\",\"orange\"]\n",
    "new_list = []\n",
    "for i in fruits:\n",
    "    if 'g' in i:\n",
    "        new_list.append(i)\n",
    "        \n",
    "print(new_list)    #normal method code\n",
    " "
   ]
  },
  {
   "cell_type": "code",
   "execution_count": 8,
   "id": "32e1cc81",
   "metadata": {},
   "outputs": [
    {
     "name": "stdout",
     "output_type": "stream",
     "text": [
      "['apple', 'cherry', 'orange']\n"
     ]
    }
   ],
   "source": [
    "#Using list comprehension\n",
    "fruits = [\"apple\",\"banana\",\"cherry\",\"Dragon\",\"orange\"]\n",
    "x = [ i for i in fruits if 'e' in i]\n",
    "print(x)"
   ]
  },
  {
   "cell_type": "code",
   "execution_count": 12,
   "id": "5e963d35",
   "metadata": {},
   "outputs": [
    {
     "name": "stdout",
     "output_type": "stream",
     "text": [
      "[5, 20, 45, 55, 80]\n"
     ]
    }
   ],
   "source": [
    "#numbers divisible by 5 in a list in list comprehension.\n",
    "list = [5,11,20,45,55,31,80]\n",
    "y = [i for i in list if i % 5 ==0] \n",
    "\n",
    "print(y)                           C"
   ]
  },
  {
   "cell_type": "code",
   "execution_count": 13,
   "id": "eadcab74",
   "metadata": {},
   "outputs": [
    {
     "name": "stdout",
     "output_type": "stream",
     "text": [
      "[45, 65, 35]\n"
     ]
    }
   ],
   "source": [
    "num = [34,45,65,70,35,22,80]\n",
    "new = [ x for x in num if x % 2 ==1]\n",
    "print(new)\n",
    "    \n"
   ]
  },
  {
   "cell_type": "code",
   "execution_count": 18,
   "id": "6c0876ee",
   "metadata": {},
   "outputs": [
    {
     "name": "stdout",
     "output_type": "stream",
     "text": [
      "[170, 270, 620, 280]\n"
     ]
    }
   ],
   "source": [
    "list1 = [23,34,54,33,124,56]\n",
    "new =[ x*5 for x in list1 if x % 2 == 0]\n",
    "print(new)"
   ]
  },
  {
   "cell_type": "code",
   "execution_count": 23,
   "id": "47da2a32",
   "metadata": {},
   "outputs": [
    {
     "name": "stdout",
     "output_type": "stream",
     "text": [
      "['apple', 'banana', 'cherry', 'orange', 'grape']\n"
     ]
    }
   ],
   "source": [
    "fruits = [\"apple\",\"banana\",\"cherry\",\"orange\",\"grape\"]\n",
    "new = [i for i in fruits ]\n",
    "print(new)"
   ]
  },
  {
   "cell_type": "code",
   "execution_count": 28,
   "id": "cd2bd6ab",
   "metadata": {},
   "outputs": [
    {
     "name": "stdout",
     "output_type": "stream",
     "text": [
      "['APPLE', 'BANANA', 'ORANGE', 'GRAPE']\n"
     ]
    }
   ],
   "source": [
    "#conditiion\n",
    "fruits = [\"apple\",\"banana\",\"cherry\",\"orange\",\"grape\"]\n",
    "\n",
    "new = [  x.upper() for x in fruits if x != \"cherry\" ]\n",
    "print(new)"
   ]
  },
  {
   "cell_type": "code",
   "execution_count": 36,
   "id": "ecdbd9d3",
   "metadata": {},
   "outputs": [
    {
     "name": "stdout",
     "output_type": "stream",
     "text": [
      "[2, 3, 4, 5, 6, 7, 8, 9, 10, 11, 12, 13, 14, 15, 16, 17, 18, 19]\n"
     ]
    }
   ],
   "source": [
    "#range\n",
    "\n",
    "list = [ i for i in  range(2,20) ]\n",
    "len(list)\n",
    "print(list)"
   ]
  },
  {
   "cell_type": "code",
   "execution_count": 39,
   "id": "de5c8503",
   "metadata": {},
   "outputs": [
    {
     "name": "stdout",
     "output_type": "stream",
     "text": [
      "['Not Found', 'Not Found', 'CHERRY', 'ORANGE', 'GRAPE']\n"
     ]
    }
   ],
   "source": [
    "#if else\n",
    "\n",
    "fruits = [\"apple\",\"banana\",\"cherry\",\"orange\",\"grape\"]\n",
    "new = [ x.upper() if 'r' in x else \"Not Found\" for x in fruits]\n",
    "print(new)\n"
   ]
  },
  {
   "cell_type": "code",
   "execution_count": 44,
   "id": "e6c7c5ed",
   "metadata": {},
   "outputs": [
    {
     "ename": "SyntaxError",
     "evalue": "invalid syntax (4118209510.py, line 4)",
     "output_type": "error",
     "traceback": [
      "\u001b[1;36m  Cell \u001b[1;32mIn[44], line 4\u001b[1;36m\u001b[0m\n\u001b[1;33m    new = [ i while  i == \"cherry\" for i in fruits ]\u001b[0m\n\u001b[1;37m              ^\u001b[0m\n\u001b[1;31mSyntaxError\u001b[0m\u001b[1;31m:\u001b[0m invalid syntax\n"
     ]
    }
   ],
   "source": [
    "#while loop\n",
    "\n",
    "fruits = [\"apple\",\"banana\",\"cherry\",\"orange\",\"grape\"]\n",
    "new = [ i while  i == \"cherry\" for i in fruits ]\n",
    "print(new)"
   ]
  },
  {
   "cell_type": "code",
   "execution_count": 43,
   "id": "bb525ed5",
   "metadata": {},
   "outputs": [
    {
     "ename": "SyntaxError",
     "evalue": "expected 'else' after 'if' expression (2060411130.py, line 4)",
     "output_type": "error",
     "traceback": [
      "\u001b[1;36m  Cell \u001b[1;32mIn[43], line 4\u001b[1;36m\u001b[0m\n\u001b[1;33m    new_set = [ i if i%2 =0 else 'no'if i%3 =0 else 'no' if i%5 = 0 else 'no'  for i in set ]\u001b[0m\n\u001b[1;37m                ^\u001b[0m\n\u001b[1;31mSyntaxError\u001b[0m\u001b[1;31m:\u001b[0m expected 'else' after 'if' expression\n"
     ]
    }
   ],
   "source": [
    "#if else ladder\n",
    "\n",
    "set = [2,3,6,4,13,22,15,18]\n",
    "new_set = [ i if i%2 =0 else 'no'if i%3 =0 else 'no' if i%5 = 0 else 'no'  for i in set ]\n",
    "print(new_set)\n",
    "\n"
   ]
  },
  {
   "cell_type": "code",
   "execution_count": 46,
   "id": "b41c608d",
   "metadata": {},
   "outputs": [
    {
     "ename": "SyntaxError",
     "evalue": "invalid syntax (207786836.py, line 2)",
     "output_type": "error",
     "traceback": [
      "\u001b[1;36m  Cell \u001b[1;32mIn[46], line 2\u001b[1;36m\u001b[0m\n\u001b[1;33m    new = [ i for i in fruits if 'c' in i  else \"not\"]\u001b[0m\n\u001b[1;37m                                           ^\u001b[0m\n\u001b[1;31mSyntaxError\u001b[0m\u001b[1;31m:\u001b[0m invalid syntax\n"
     ]
    }
   ],
   "source": [
    "fruits = [\"apple\",\"banana\",\"cherry\",\"orange\",\"grape\"]\n",
    "new = [ i for i in fruits if 'c' in i  else \"not\"]"
   ]
  },
  {
   "cell_type": "markdown",
   "id": "44d11cd8",
   "metadata": {},
   "source": [
    "# zip()"
   ]
  },
  {
   "cell_type": "code",
   "execution_count": 61,
   "id": "8f03a1fc",
   "metadata": {},
   "outputs": [
    {
     "name": "stdout",
     "output_type": "stream",
     "text": [
      "(('balu', 'bablu'), ('chandu', 'chetan'), ('emil', 'dinesh'), ('ajay', 'arun'))\n",
      "<class 'zip'>\n"
     ]
    }
   ],
   "source": [
    "a = {\"ajay\",\"balu\",\"chandu\",\"danush\",\"emil\"}\n",
    "b = {\"arun\",\"bablu\",\"chetan\",\"dinesh\"}\n",
    "c = zip(a,b)\n",
    "print(tuple(c))\n",
    "print(type(c))"
   ]
  },
  {
   "cell_type": "code",
   "execution_count": 79,
   "id": "f8770dd6",
   "metadata": {},
   "outputs": [
    {
     "name": "stdout",
     "output_type": "stream",
     "text": [
      "{('doctor', 'hospital', 'students'), ('farmer', 'field', 'crops')}\n"
     ]
    }
   ],
   "source": [
    "a = [\"farmer\", \"doctor\", \"teacher\",\"engineer\"]\n",
    "b = [\"field\",\"hospital\"]\n",
    "c = [\"crops\",\"students\",\"projects\"]\n",
    "x = zip(a,b,c)\n",
    "\n",
    "#print(set(x))\n",
    "\n",
    "#print(type(x))\n",
    "\n",
    "#print(tuple(x))\n",
    "#print(type(x))\n",
    "\n",
    "#print(set(x))\n",
    "\n",
    "print(set(x))\n",
    "\n",
    "#print(dict(x))\n",
    "\n",
    "\n",
    "\n"
   ]
  },
  {
   "cell_type": "code",
   "execution_count": 91,
   "id": "f9138653",
   "metadata": {},
   "outputs": [
    {
     "name": "stdout",
     "output_type": "stream",
     "text": [
      "(0, 12)\n",
      "(1, 23)\n",
      "(2, 23)\n",
      "(3, 34)\n",
      "(4, 55)\n",
      "(5, 10)\n",
      "(6, 20)\n"
     ]
    }
   ],
   "source": [
    "a = [12,23,23,34,55,10,20]\n",
    "\n",
    "for i in  enumerate(a):\n",
    "    print(i)"
   ]
  },
  {
   "cell_type": "code",
   "execution_count": 97,
   "id": "ec1a1328",
   "metadata": {},
   "outputs": [
    {
     "name": "stdout",
     "output_type": "stream",
     "text": [
      "(12, 21)\n",
      "<class 'tuple'>\n",
      "(23, 23)\n",
      "<class 'tuple'>\n",
      "(23, 44)\n",
      "<class 'tuple'>\n",
      "(34, 54)\n",
      "<class 'tuple'>\n",
      "(55, 45)\n",
      "<class 'tuple'>\n"
     ]
    }
   ],
   "source": [
    "a = [12,23,23,34,55,10,20]\n",
    "b = [21,23,44,54,45]\n",
    "for i in  zip(a,b):\n",
    "    print(i)\n",
    "    print(type(i))"
   ]
  },
  {
   "cell_type": "markdown",
   "id": "8a539d42",
   "metadata": {},
   "source": [
    "# JSON"
   ]
  },
  {
   "cell_type": "code",
   "execution_count": null,
   "id": "ce0b5355",
   "metadata": {},
   "outputs": [],
   "source": []
  },
  {
   "cell_type": "code",
   "execution_count": null,
   "id": "ea49c1b4",
   "metadata": {},
   "outputs": [],
   "source": []
  }
 ],
 "metadata": {
  "kernelspec": {
   "display_name": "Python 3 (ipykernel)",
   "language": "python",
   "name": "python3"
  },
  "language_info": {
   "codemirror_mode": {
    "name": "ipython",
    "version": 3
   },
   "file_extension": ".py",
   "mimetype": "text/x-python",
   "name": "python",
   "nbconvert_exporter": "python",
   "pygments_lexer": "ipython3",
   "version": "3.11.5"
  }
 },
 "nbformat": 4,
 "nbformat_minor": 5
}
