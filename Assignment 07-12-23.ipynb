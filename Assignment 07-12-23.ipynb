{
 "cells": [
  {
   "cell_type": "code",
   "execution_count": 15,
   "id": "cf8ac242",
   "metadata": {},
   "outputs": [
    {
     "name": "stdout",
     "output_type": "stream",
     "text": [
      "pavan 22\n"
     ]
    }
   ],
   "source": [
    "#1. Write a program to create a function that takes two arguments, name and age, and\n",
    "#print their value.\n",
    "\n",
    "def my_fun(name,age):\n",
    "    print(name,age)\n",
    "my_fun(\"pavan\",22)\n",
    "    \n",
    "    \n",
    "    \n",
    "    \n",
    "    \n",
    "    "
   ]
  },
  {
   "cell_type": "code",
   "execution_count": 26,
   "id": "8a23742a",
   "metadata": {},
   "outputs": [
    {
     "name": "stdout",
     "output_type": "stream",
     "text": [
      "name: jack salary: 20000\n",
      "name: john salary: 9000\n"
     ]
    }
   ],
   "source": [
    " # 2.Write a program to create a function show_employee() using the following conditions.\n",
    "# a.It should accept the employee’s name and salary and display both.\n",
    "# b.If the salary is missing in the function call then assign default value 9000 to\n",
    "# salary.\n",
    "\n",
    "\n",
    "def show_employee(name, salary=9000):\n",
    "        print(\"name:\",name,\"salary:\",salary)\n",
    "        \n",
    "show_employee(\"jack\",20000)\n",
    "show_employee(\"john\")\n",
    "    \n"
   ]
  },
  {
   "cell_type": "code",
   "execution_count": 32,
   "id": "ef17cc92",
   "metadata": {},
   "outputs": [
    {
     "name": "stdout",
     "output_type": "stream",
     "text": [
      "ABCDEF\n"
     ]
    }
   ],
   "source": [
    "# 3.Define a function that accepts lowercase words and returns uppercase words.\n",
    "\n",
    "def my_fun(a=\"abcdef\"):\n",
    "    print(a.upper())\n",
    "my_fun()\n",
    "    \n",
    "    \n"
   ]
  },
  {
   "cell_type": "code",
   "execution_count": null,
   "id": "1ed94cf0",
   "metadata": {},
   "outputs": [],
   "source": []
  }
 ],
 "metadata": {
  "kernelspec": {
   "display_name": "Python 3 (ipykernel)",
   "language": "python",
   "name": "python3"
  },
  "language_info": {
   "codemirror_mode": {
    "name": "ipython",
    "version": 3
   },
   "file_extension": ".py",
   "mimetype": "text/x-python",
   "name": "python",
   "nbconvert_exporter": "python",
   "pygments_lexer": "ipython3",
   "version": "3.11.5"
  }
 },
 "nbformat": 4,
 "nbformat_minor": 5
}
