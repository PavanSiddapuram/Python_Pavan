{
 "cells": [
  {
   "cell_type": "code",
   "execution_count": 2,
   "id": "b7fb33a9",
   "metadata": {},
   "outputs": [
    {
     "name": "stdout",
     "output_type": "stream",
     "text": [
      "{'pens': 2, 'pencils': 4}\n",
      "<class 'dict'>\n",
      "['ss']\n",
      "<class 'list'>\n",
      "<class 'int'>\n",
      "\n",
      "Dictionary with  no.of keys\n",
      "{'my_id': 10, 1: [1, 2, 3]}\n"
     ]
    }
   ],
   "source": [
    "#creating a dictionary named Item_quantity\n",
    "Item_quantity={'pens':2,'pencils':4}\n",
    "print(Item_quantity)\n",
    "\n",
    "S1={'scale': '45'}\n",
    "print(type(S1))\n",
    "\n",
    "S2=['ss',]\n",
    "print(S2)\n",
    "print(type(S2))\n",
    "\n",
    "S3=(2)\n",
    "print(type(S3))\n",
    "my_dict={'my_id':10,1:[1, 2, 3]}\n",
    "print(\"\\nDictionary with  no.of keys\")\n",
    "print(my_dict)"
   ]
  },
  {
   "cell_type": "code",
   "execution_count": 4,
   "id": "59fbdeab",
   "metadata": {},
   "outputs": [
    {
     "name": "stdout",
     "output_type": "stream",
     "text": [
      "empty dict: {}\n",
      "\n",
      "Dictionary witt use of dict():  {1: 'Wel come', 2: 'To', 3: 'Mytraz'}\n",
      "\n",
      "Dictionary  item as a pair:  {1: 'Hello', 2: 'World'}\n"
     ]
    }
   ],
   "source": [
    "#Creating an empty set by using constructor\n",
    "\n",
    "Dict1={}\n",
    "print(\"empty dict:\",Dict1)\n",
    "\n",
    "\n",
    "Dict1 = dict({1: 'Wel come', 2: 'To', 3: 'Mytraz'}) \n",
    "print(\"\\nDictionary witt use of dict(): \",Dict1) \n",
    "\n",
    " \n",
    "Dict1 = dict([(1, 'Hello'), (2, 'World')]) \n",
    "print(\"\\nDictionary  item as a pair: \",Dict1) "
   ]
  },
  {
   "cell_type": "code",
   "execution_count": null,
   "id": "ea6e7cca",
   "metadata": {},
   "outputs": [],
   "source": [
    "# Creating a Nested Dictionary\n"
   ]
  }
 ],
 "metadata": {
  "kernelspec": {
   "display_name": "Python 3 (ipykernel)",
   "language": "python",
   "name": "python3"
  },
  "language_info": {
   "codemirror_mode": {
    "name": "ipython",
    "version": 3
   },
   "file_extension": ".py",
   "mimetype": "text/x-python",
   "name": "python",
   "nbconvert_exporter": "python",
   "pygments_lexer": "ipython3",
   "version": "3.11.5"
  }
 },
 "nbformat": 4,
 "nbformat_minor": 5
}
