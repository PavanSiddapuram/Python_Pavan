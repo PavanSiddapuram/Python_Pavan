{
 "cells": [
  {
   "cell_type": "code",
   "execution_count": 44,
   "id": "1c3e8be8",
   "metadata": {},
   "outputs": [
    {
     "name": "stdout",
     "output_type": "stream",
     "text": [
      "['No', 'No', 'No', 'No', 32, 22, 10, 'No', 'No', 'No']\n"
     ]
    }
   ],
   "source": [
    "#1.Given a list of numbers, remove all odd numbers from the list numbers \n",
    "list  = [3,5,45,97,32,22,10,19,39,43]\n",
    "new_list =[i if i%2 == 0 else 'No'  for i in list]\n",
    "print(new_list)"
   ]
  },
  {
   "cell_type": "code",
   "execution_count": 48,
   "id": "ae89b48c",
   "metadata": {},
   "outputs": [
    {
     "name": "stdout",
     "output_type": "stream",
     "text": [
      "[7, 14, 21, 28, 35, 42, 49, 56, 63, 70, 77, 84, 91, 98, 105, 112, 119, 126, 133, 140, 147, 154, 161, 168, 175, 182, 189, 196, 203, 210, 217, 224, 231, 238, 245, 252, 259, 266, 273, 280, 287, 294, 301, 308, 315, 322, 329, 336, 343, 350, 357, 364, 371, 378, 385, 392, 399, 406, 413, 420, 427, 434, 441, 448, 455, 462, 469, 476, 483, 490, 497, 504, 511, 518, 525, 532, 539, 546, 553, 560, 567, 574, 581, 588, 595, 602, 609, 616, 623, 630, 637, 644, 651, 658, 665, 672, 679, 686, 693, 700, 707, 714, 721, 728, 735, 742, 749, 756, 763, 770, 777, 784, 791, 798, 805, 812, 819, 826, 833, 840, 847, 854, 861, 868, 875, 882, 889, 896, 903, 910, 917, 924, 931, 938, 945, 952, 959, 966, 973, 980, 987, 994]\n"
     ]
    }
   ],
   "source": [
    "#2.Find all of the numbers from 1-1000 that are divisible by 7\n",
    "num = [x for x in range(1,1000) if x % 7 == 0] \n",
    "print(num)"
   ]
  },
  {
   "cell_type": "code",
   "execution_count": 36,
   "id": "c8e5031b",
   "metadata": {},
   "outputs": [
    {
     "name": "stdout",
     "output_type": "stream",
     "text": [
      "4\n"
     ]
    }
   ],
   "source": [
    "#3.Count the number of spaces in a string\n",
    "my_str = \"sun rises in the east\"\n",
    "new_str =[i for i in my_str if i ==\" \"]\n",
    "print(len(new_str))"
   ]
  },
  {
   "cell_type": "code",
   "execution_count": 70,
   "id": "a68c9fb1",
   "metadata": {},
   "outputs": [
    {
     "name": "stdout",
     "output_type": "stream",
     "text": [
      "[(0, 'hi'), (1, 4), (2, 8.99), (3, 'apple'), (4, 't, b, n')]\n"
     ]
    }
   ],
   "source": [
    "#4.Get the index and the value as a tuple for items in the list “hi”, 4, 8.99, ‘apple’, (‘t,b’,’n’).\n",
    "#Result would look like (index, value), (index, value)\n",
    "\n",
    "list = [\"hi\", 4, 8.99, \"apple\", (\"t, b, n\")]\n",
    "\n",
    "new_list = [(i, list) for i ,list in enumerate(list)] \n",
    "print(new_list)\n",
    "         #new = [(index,element) for index, element in enumerate(list)]"
   ]
  },
  {
   "cell_type": "code",
   "execution_count": 57,
   "id": "e1ef61bb",
   "metadata": {},
   "outputs": [
    {
     "name": "stdout",
     "output_type": "stream",
     "text": [
      "['All', 'of', 'the', 'in', 'a', 'are']\n"
     ]
    }
   ],
   "source": [
    "#5.Find all of the words in a string that are less than 4 letters [Hint: Use split() to get the words from string]\n",
    "my_str= \"All of the words in a string that are less\"\n",
    "new_str = [i  for i in my_str.split(' ') if len(i)<4] \n",
    "print(new_str)\n",
    "                                "
   ]
  },
  {
   "cell_type": "code",
   "execution_count": 64,
   "id": "0851c250",
   "metadata": {},
   "outputs": [
    {
     "name": "stdout",
     "output_type": "stream",
     "text": [
      "3 Three\n",
      "6 Three\n",
      "9 Three\n",
      "12 Three\n",
      "15 Three\n",
      "15 Five\n",
      "15 ThreeFive\n",
      "18 Three\n",
      "21 Three\n",
      "24 Three\n",
      "27 Three\n",
      "30 Three\n",
      "30 Five\n",
      "30 ThreeFive\n",
      "33 Three\n",
      "36 Three\n",
      "39 Three\n",
      "42 Three\n",
      "45 Three\n",
      "45 Five\n",
      "45 ThreeFive\n",
      "48 Three\n"
     ]
    }
   ],
   "source": [
    "#1.\tWrite a Python program that iterates the integers from 1 to 50.\n",
    "#For multiples of three print \"Three\" instead of the number and for multiples of five print \"Five\".\n",
    "#For numbers that are multiples of three and five, print \"ThreeFive\n",
    "\n",
    "\n",
    "for i in range(1,50):\n",
    "    if i%3 == 0:\n",
    "        print(i,\"Three\")\n",
    "        if i % 5 == 0:\n",
    "            print(i,\"Five\")\n",
    "            if i%3==0 and i%5==0:\n",
    "                print(i,\"ThreeFive\")\n",
    "                \n"
   ]
  },
  {
   "cell_type": "code",
   "execution_count": 83,
   "id": "754972ee",
   "metadata": {},
   "outputs": [
    {
     "name": "stdout",
     "output_type": "stream",
     "text": [
      "no of digits :  4\n",
      "no of letters :  5\n"
     ]
    }
   ],
   "source": [
    "#2.\tWrite a Python program that accepts a string and calculates the number of digits and letters.\n",
    "\n",
    "str1=\"pavan1138\"\n",
    "alpha=0\n",
    "for i in str1:\n",
    "    if (i.isalpha()):\n",
    "        alpha+=1\n",
    "        a = len(str1)-alpha\n",
    "print(\"no of digits : \",a)\n",
    "print(\"no of letters : \",alpha)\n",
    "        "
   ]
  },
  {
   "cell_type": "code",
   "execution_count": null,
   "id": "0132fed7",
   "metadata": {},
   "outputs": [],
   "source": []
  },
  {
   "cell_type": "code",
   "execution_count": null,
   "id": "110dc854",
   "metadata": {},
   "outputs": [],
   "source": []
  },
  {
   "cell_type": "code",
   "execution_count": null,
   "id": "6acfb199",
   "metadata": {},
   "outputs": [],
   "source": []
  }
 ],
 "metadata": {
  "kernelspec": {
   "display_name": "Python 3 (ipykernel)",
   "language": "python",
   "name": "python3"
  },
  "language_info": {
   "codemirror_mode": {
    "name": "ipython",
    "version": 3
   },
   "file_extension": ".py",
   "mimetype": "text/x-python",
   "name": "python",
   "nbconvert_exporter": "python",
   "pygments_lexer": "ipython3",
   "version": "3.11.5"
  }
 },
 "nbformat": 4,
 "nbformat_minor": 5
}
