{
 "cells": [
  {
   "cell_type": "code",
   "execution_count": 14,
   "id": "db57ed9a",
   "metadata": {},
   "outputs": [
    {
     "name": "stdout",
     "output_type": "stream",
     "text": [
      "21\n",
      "30\n"
     ]
    }
   ],
   "source": [
    "#1.\tWrite a Python program to create a lambda function that adds 15 to a given number passed in as an argument,\n",
    "#also create a lambda function that multiplies argument x with argument y and prints the result.\n",
    "\n",
    "x = lambda a : a + 15\n",
    "print(x(6))\n",
    "y = lambda x,y : x*y\n",
    "print(y(5,6))\n",
    "\n",
    "\n",
    "\n"
   ]
  },
  {
   "cell_type": "code",
   "execution_count": 4,
   "id": "ff929970",
   "metadata": {},
   "outputs": [
    {
     "name": "stdout",
     "output_type": "stream",
     "text": [
      "2 times : 30\n",
      "3 times : 45\n",
      "4 times : 60\n",
      "5 times : 75\n"
     ]
    }
   ],
   "source": [
    "# 2.Write a Python program to create a function that takes one argument,\n",
    "# and that argument will be multiplied with an unknown given number.\n",
    "def myfun(n):\n",
    " return lambda x : x * n\n",
    "final = myfun(2)\n",
    "print(\"2 times :\",final(15))\n",
    "final =myfun(3)\n",
    "print(\"3 times :\",final(15))\n",
    "final =myfun(4)\n",
    "print(\"4 times :\",final(15))\n",
    "final = myfun(5)\n",
    "print(\"5 times :\",final(15))"
   ]
  },
  {
   "cell_type": "code",
   "execution_count": 1,
   "id": "1c61bb00",
   "metadata": {},
   "outputs": [
    {
     "name": "stdout",
     "output_type": "stream",
     "text": [
      "Original marks : [('English', 88), ('Science', 90), ('Maths', 97), ('Social sciences', 82)]\n",
      "sorted marks : [('Social sciences', 82), ('English', 88), ('Science', 90), ('Maths', 97)]\n"
     ]
    }
   ],
   "source": [
    "#3. Write a Python program to sort a list of tuples using Lambda.\n",
    "# Original list of tuples:\n",
    "# [('English', 88), ('Science', 90), ('Maths', 97), ('Social sciences', 82)] \n",
    "\n",
    "marks_list = [('English', 88), ('Science', 90), ('Maths', 97), ('Social sciences', 82)]\n",
    "print(\"Original marks :\",marks_list)\n",
    "marks_list.sort(key = lambda x: x[1])  #key \n",
    "print(\"sorted marks :\",marks_list)\n",
    "\n",
    "\n",
    "\n",
    "\n",
    "\n",
    "\n"
   ]
  },
  {
   "cell_type": "code",
   "execution_count": 3,
   "id": "b5a3bf8c",
   "metadata": {},
   "outputs": [
    {
     "name": "stdout",
     "output_type": "stream",
     "text": [
      "[1, 2, 3, 4, 5, 6, 7, 8, 9, 10]\n",
      "Even : [2, 4, 6, 8, 10]\n",
      "Odd: [1, 3, 5, 7, 9]\n"
     ]
    }
   ],
   "source": [
    "#4.Write a Python program to filter a list of integers using Lambda.\n",
    "# Original list of integers:\n",
    "# [1, 2, 3, 4, 5, 6, 7, 8, 9, 10]\n",
    "\n",
    "# Output:-\n",
    "# Even numbers from the said list:\n",
    "# [2, 4, 6, 8, 10]\n",
    "# Odd numbers from the said list:\n",
    "# [1, 3, 5, 7, 9]\n",
    "\n",
    "\n",
    "numb = [1, 2, 3, 4, 5, 6, 7, 8, 9, 10]\n",
    "print(numb)\n",
    "even = filter(lambda x:x%2 == 0,numb)\n",
    "odd = filter(lambda x:x%2 == 1,numb)\n",
    "print(\"Even :\",list(even))\n",
    "print(\"Odd:\", list(odd))\n",
    "\n"
   ]
  },
  {
   "cell_type": "code",
   "execution_count": 4,
   "id": "e14f3b51",
   "metadata": {},
   "outputs": [
    {
     "name": "stdout",
     "output_type": "stream",
     "text": [
      "[1, 2, 3, 4, 5, 6, 7, 8, 9, 10]\n",
      "[1, 4, 9, 16, 25, 36, 49, 64, 81, 100]\n",
      "[1, 8, 27, 64, 125, 216, 343, 512, 729, 1000]\n"
     ]
    }
   ],
   "source": [
    "#5.5.\tWrite a Python program to square and cube every number in a given list of integers using Lambda.\n",
    "#Original list of integers:\n",
    "#[1, 2, 3, 4, 5, 6, 7, 8, 9, 10]\n",
    "\n",
    "num = [1, 2, 3, 4, 5, 6, 7, 8, 9, 10]\n",
    "print(num)\n",
    "square = list(map(lambda n: n**2,num))\n",
    "print(list(square))\n",
    "cube = list(map(lambda n:n**3,num))\n",
    "print(list(cube))\n",
    "\n",
    "\n"
   ]
  },
  {
   "cell_type": "code",
   "execution_count": null,
   "id": "0d985e9d",
   "metadata": {},
   "outputs": [],
   "source": [
    "#6.\tWrite a Python function that checks whether a passed string is a palindrome or not.\n",
    "#Note: A palindrome is a word, phrase, or sequence that reads the same \n",
    "def myfun(str):\n",
    "    for i range(0,int(len(str)/2)):\n",
    "        if str[i] != str[len(str)-i-1]:\n",
    "            return False \n",
    "        return True\n",
    "    str =input(\"Enter your string\")\n",
    "    print(\"Yes it is palindrome\")\n",
    "    else:\n",
    "        print(\"No it is not\")\n",
    "        \n",
    "        \n",
    "    "
   ]
  },
  {
   "cell_type": "code",
   "execution_count": 11,
   "id": "f5c7db20",
   "metadata": {},
   "outputs": [
    {
     "name": "stdout",
     "output_type": "stream",
     "text": [
      "Enter a string :pavan\n",
      "This string is not pallindrome\n"
     ]
    }
   ],
   "source": [
    "#6.\tWrite a Python function that checks whether a passed string is a palindrome or not.\n",
    "#Note: A palindrome is a word, phrase, or sequence that reads the same \n",
    "def palin(str):\n",
    "    if (str == str[::-1]):\n",
    "        return \"The string is pallindrome\"\n",
    "\n",
    "    else:\n",
    "        return \"This string is not pallindrome\"\n",
    "str = (input(\"Enter a string :\"))\n",
    "print(palin(str))\n",
    "\n",
    "\n",
    "\n",
    "    \n",
    "    \n",
    " "
   ]
  },
  {
   "cell_type": "code",
   "execution_count": 25,
   "id": "b564875f",
   "metadata": {},
   "outputs": [
    {
     "name": "stdout",
     "output_type": "stream",
     "text": [
      "[1, 4, 9, 16, 25, 36, 49, 64, 81, 100, 121, 144, 169, 196, 225, 256, 289, 324, 361, 400, 441, 484, 529, 576, 625, 676, 729, 784, 841]\n"
     ]
    }
   ],
   "source": [
    "#7.Write a Python function to create and print a list where\n",
    "# the values are the squares of numbers between 1 and 30 (both included).\n",
    "\n",
    "    \n",
    "    \n",
    "def Values():\n",
    "    a = list()\n",
    "    for i in range(1,30):\n",
    "        a.append(i**2)\n",
    "    print(a)\n",
    "\n",
    "Values()\n",
    "    "
   ]
  },
  {
   "cell_type": "code",
   "execution_count": 9,
   "id": "7c392515",
   "metadata": {},
   "outputs": [
    {
     "name": "stdout",
     "output_type": "stream",
     "text": [
      "2023-11-10 15:21:17.691787\n",
      "2023\n",
      "11\n",
      "10\n",
      "15:21:17.691787\n"
     ]
    }
   ],
   "source": [
    "#8.Write a Python program to extract year, month, date and time using Lambda.\n",
    "import datetime\n",
    "now = datetime.datetime.now()\n",
    "print(now)\n",
    "year = lambda x: x.year\n",
    "month = lambda x: x.month\n",
    "day = lambda x: x.day\n",
    "t = lambda x: x.time()\n",
    "print(year(now))\n",
    "print(month(now))\n",
    "print(day(now))\n",
    "print(t(now))\n",
    "\n"
   ]
  },
  {
   "cell_type": "code",
   "execution_count": null,
   "id": "9e4f753c",
   "metadata": {},
   "outputs": [],
   "source": [
    "#9.\tWrite a Python program to check whether a given string is a number or not using Lambda.\n",
    "def check(string):"
   ]
  },
  {
   "cell_type": "code",
   "execution_count": null,
   "id": "4a7f3b90",
   "metadata": {},
   "outputs": [],
   "source": [
    "#10"
   ]
  },
  {
   "cell_type": "code",
   "execution_count": null,
   "id": "d7106c7d",
   "metadata": {},
   "outputs": [],
   "source": []
  },
  {
   "cell_type": "code",
   "execution_count": null,
   "id": "d5ce0987",
   "metadata": {},
   "outputs": [],
   "source": [
    "#1.\tStatement:    \n",
    "# In this assignment, our interpreter has a word. \n",
    "# The user first has to input their names and then, will be asked to guess any alphabet.\n",
    "# If the random word contains that alphabet, it will be shown as the output(with correct placement)\n",
    "# else the program will ask you to guess another alphabet.\n",
    "# The user will be given 10 turns(which can be changed accordingly) to guess the complete word.\n",
    "\n",
    "\n",
    "word =\"SAI\"\n",
    "name = input(\"Enter your name :\")\n",
    "\n",
    "print(\"Hello, \" , name , \"let's play hangman!\")\n",
    "\n",
    "print(\"so whats your first guess ?\")\n",
    "while turns > 0:\n",
    "                failed = 0\n",
    "                for char in name:\n",
    "                    if char in guess:\n",
    "                        print(char, end=\" \")\n",
    "                        \n",
    "                        "
   ]
  },
  {
   "cell_type": "code",
   "execution_count": null,
   "id": "8ed4c05a",
   "metadata": {},
   "outputs": [],
   "source": [
    "                        \n",
    "#name_2 =(input(\"Enter a str \", name))\n",
    "for i in name.range(char,name>0):\n",
    "    if input(name(\"Guess a character:\")):\n",
    "        name =random.choice()\n",
    "        if input ==name:\n",
    "            print(\"Guess a character\", name)\n",
    "            guess = ''\n",
    "            turns = 10\n",
    "            while turns > 0:\n",
    "                failed = 0\n",
    "                for char in name:\n",
    "                    if char in guess:\n",
    "                        print(char, end=\" \")\n",
    "                        \n",
    "                        \n",
    "                        \n",
    " "
   ]
  },
  {
   "cell_type": "code",
   "execution_count": null,
   "id": "85a54562",
   "metadata": {},
   "outputs": [],
   "source": []
  },
  {
   "cell_type": "code",
   "execution_count": null,
   "id": "5e5c2dc6",
   "metadata": {},
   "outputs": [],
   "source": []
  },
  {
   "cell_type": "code",
   "execution_count": null,
   "id": "b9162ae7",
   "metadata": {},
   "outputs": [],
   "source": []
  }
 ],
 "metadata": {
  "kernelspec": {
   "display_name": "Python 3 (ipykernel)",
   "language": "python",
   "name": "python3"
  },
  "language_info": {
   "codemirror_mode": {
    "name": "ipython",
    "version": 3
   },
   "file_extension": ".py",
   "mimetype": "text/x-python",
   "name": "python",
   "nbconvert_exporter": "python",
   "pygments_lexer": "ipython3",
   "version": "3.11.5"
  }
 },
 "nbformat": 4,
 "nbformat_minor": 5
}
