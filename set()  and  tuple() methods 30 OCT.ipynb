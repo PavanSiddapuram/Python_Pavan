{
 "cells": [
  {
   "cell_type": "code",
   "execution_count": 2,
   "id": "9b271589",
   "metadata": {},
   "outputs": [
    {
     "data": {
      "text/plain": [
       "set"
      ]
     },
     "execution_count": 2,
     "metadata": {},
     "output_type": "execute_result"
    }
   ],
   "source": [
    "#set\n",
    "myset = {\"Apple\",\"Banana\",\"Cherry\"}\n",
    "type(myset)"
   ]
  },
  {
   "cell_type": "code",
   "execution_count": 6,
   "id": "a10ce128",
   "metadata": {},
   "outputs": [
    {
     "name": "stdout",
     "output_type": "stream",
     "text": [
      "{'Banana', 'Cherry', 'Apple'}\n",
      "{8, 4, 12, 6}\n",
      "{False, True}\n"
     ]
    }
   ],
   "source": [
    "#Unordered,remove Duplicates\n",
    "s1 = {\"Apple\",\"Banana\",\"Cherry\"}\n",
    "s2 = {4, 8, 6, 12}\n",
    "s3 = {True , False , True}\n",
    "print(s1)\n",
    "print(s2)\n",
    "print(s3)"
   ]
  },
  {
   "cell_type": "code",
   "execution_count": 9,
   "id": "b0a12cbc",
   "metadata": {},
   "outputs": [
    {
     "data": {
      "text/plain": [
       "set"
      ]
     },
     "execution_count": 9,
     "metadata": {},
     "output_type": "execute_result"
    }
   ],
   "source": [
    "#using set constructor we can create a set object using the values in any format.\n",
    "setlist = set([\"Apple\",\"Google\",\"Missoft\"])\n",
    "type(setlist)\n"
   ]
  },
  {
   "cell_type": "code",
   "execution_count": 19,
   "id": "0fdc5c65",
   "metadata": {},
   "outputs": [
    {
     "name": "stdout",
     "output_type": "stream",
     "text": [
      "{'Banana', 'Cherry', 'Apple'}\n",
      "{'Banana', 'Cherry', 'Apple'}\n",
      "{'Banana', 'Cherry', 'Apple'}\n"
     ]
    }
   ],
   "source": [
    "#Accessing sets.\n",
    "theset = {\"Apple\",\"Banana\",\"Cherry\"}\n",
    "\n",
    "for x in theset:\n",
    " print(set)"
   ]
  },
  {
   "cell_type": "code",
   "execution_count": 21,
   "id": "e6548862",
   "metadata": {},
   "outputs": [
    {
     "name": "stdout",
     "output_type": "stream",
     "text": [
      "False\n"
     ]
    }
   ],
   "source": [
    "theset = {\"Apple\",\"Banana\",\"CHerry\"}\n",
    "print(\"bananas\" in theset)"
   ]
  },
  {
   "cell_type": "code",
   "execution_count": 23,
   "id": "c6ddfe7c",
   "metadata": {},
   "outputs": [
    {
     "name": "stdout",
     "output_type": "stream",
     "text": [
      "{'Dragons', 'Banana', 'Apple', 'cherry'}\n"
     ]
    }
   ],
   "source": [
    "# Once a set is created, you cannot change its items, but you can add new items.\n",
    "# add set items.\n",
    "theset = {\"Apple\",\"Banana\",\"cherry\"}\n",
    "new = theset.add(\"Dragons\")          #.add() function\n",
    "print(theset)"
   ]
  },
  {
   "cell_type": "code",
   "execution_count": 30,
   "id": "ab25efee",
   "metadata": {},
   "outputs": [
    {
     "name": "stdout",
     "output_type": "stream",
     "text": [
      "{'Grapes', 'Mango', 'Banana', 'Cherry', 'Apple', 'Dragon'}\n",
      "{'Grapes', 'Mango', 'Banana', 'Cherry', 'Apple', 'Kiwi'}\n"
     ]
    }
   ],
   "source": [
    "#update()\n",
    "set1 = {\"Apple\",\"Banana\",\"Cherry\"}\n",
    "set2 = {\"Dragon\",\"Mango\",\"Grapes\"}\n",
    "set1.update(set2)\n",
    "print(set1)\n",
    "\n",
    "set_1 = {\"Apple\",\"Banana\",\"Cherry\"}\n",
    "set_2 = {\"Mango\",\"Grapes\",\"Kiwi\"}\n",
    "set_2.update(set_1)\n",
    "print(set_2)\n",
    "# Note: Update function is not only consised with set obj but we can add any other data type to all elements in the original set."
   ]
  },
  {
   "cell_type": "code",
   "execution_count": 35,
   "id": "ce2a586d",
   "metadata": {},
   "outputs": [
    {
     "name": "stdout",
     "output_type": "stream",
     "text": [
      "{'Grapes', 'Mango', 'Banana', 'Cherry', 'Kiwi'}\n"
     ]
    }
   ],
   "source": [
    "#remove()\n",
    "listset1 = {\"Apple\",\"Banana\",\"Cherry\",\"Mango\",\"Grapes\",\"Kiwi\"}\n",
    "\n",
    "listset1.remove(\"Apple\")\n",
    "print(listset1)\n"
   ]
  },
  {
   "cell_type": "code",
   "execution_count": 40,
   "id": "ade1ec8a",
   "metadata": {},
   "outputs": [
    {
     "name": "stdout",
     "output_type": "stream",
     "text": [
      "{'Banana', 'Apple'}\n"
     ]
    }
   ],
   "source": [
    "#discard.\n",
    "listset = {\"Apple\",\"Banana\",\"Cherry\"}\n",
    "listset.discard(\"Cherry\")\n",
    "#listset.discard(\"Kiwi\")\n",
    "print(listset)"
   ]
  },
  {
   "cell_type": "code",
   "execution_count": 53,
   "id": "2f926d21",
   "metadata": {},
   "outputs": [
    {
     "name": "stdout",
     "output_type": "stream",
     "text": [
      "{'Apple', 'Dragon'}\n"
     ]
    }
   ],
   "source": [
    "#pop()\n",
    "set1 = {\"Apple\",\"Cherry\",\"Dragon\"}\n",
    "set1.pop()\n",
    "print(set1)\n",
    "# Sets are unordered, so when using the pop() method, you do not know which item that gets removed."
   ]
  },
  {
   "cell_type": "code",
   "execution_count": 47,
   "id": "31819025",
   "metadata": {},
   "outputs": [
    {
     "name": "stdout",
     "output_type": "stream",
     "text": [
      "set()\n"
     ]
    }
   ],
   "source": [
    "#clear()\n",
    "\n",
    "set1 = {\"Apple\",\"Banana\",\"Cherry\"}\n",
    "set1.clear()\n",
    "print(set1)\n"
   ]
  },
  {
   "cell_type": "code",
   "execution_count": 58,
   "id": "1df4d185",
   "metadata": {},
   "outputs": [
    {
     "ename": "NameError",
     "evalue": "name 'set1' is not defined",
     "output_type": "error",
     "traceback": [
      "\u001b[1;31m---------------------------------------------------------------------------\u001b[0m",
      "\u001b[1;31mNameError\u001b[0m                                 Traceback (most recent call last)",
      "Cell \u001b[1;32mIn[58], line 3\u001b[0m\n\u001b[0;32m      1\u001b[0m set1 \u001b[38;5;241m=\u001b[39m {\u001b[38;5;124m\"\u001b[39m\u001b[38;5;124mAple\u001b[39m\u001b[38;5;124m\"\u001b[39m, \u001b[38;5;124m\"\u001b[39m\u001b[38;5;124mBanana\u001b[39m\u001b[38;5;124m\"\u001b[39m,\u001b[38;5;124m\"\u001b[39m\u001b[38;5;124mCherry\u001b[39m\u001b[38;5;124m\"\u001b[39m}\n\u001b[0;32m      2\u001b[0m \u001b[38;5;28;01mdel\u001b[39;00m set1\n\u001b[1;32m----> 3\u001b[0m \u001b[38;5;28mprint\u001b[39m(set1)\n",
      "\u001b[1;31mNameError\u001b[0m: name 'set1' is not defined"
     ]
    }
   ],
   "source": [
    "set1 = {\"Aple\", \"Banana\",\"Cherry\"}\n",
    "del set1\n",
    "print(set1)"
   ]
  },
  {
   "cell_type": "code",
   "execution_count": 61,
   "id": "a8a9042b",
   "metadata": {},
   "outputs": [
    {
     "name": "stdout",
     "output_type": "stream",
     "text": [
      "{'AB', 1, 2, 3, 4, 5, 'XY', 8, 9, 'BD', 'YZ', 'CD', 'BC'}\n"
     ]
    }
   ],
   "source": [
    "#join.union()\n",
    "set1 = {\"AB\",\"BC\", 1, 3, 5}\n",
    "set2 = {\"CD\",\"BD\",2, 4}\n",
    "set3 = {\"XY\",\"YZ\",9, 8}\n",
    "set10 = set1.union(set2,set3)\n",
    "print(set10)"
   ]
  },
  {
   "cell_type": "code",
   "execution_count": 69,
   "id": "b8e6133d",
   "metadata": {},
   "outputs": [
    {
     "name": "stdout",
     "output_type": "stream",
     "text": [
      "{'Cherry'}\n"
     ]
    }
   ],
   "source": [
    "# The intersection_update() method will keep only the items that are present in both sets.\n",
    "set1 = {\"Apple\",\"Banana\",\"Cherry\"}\n",
    "set2 = {\"Dragon\",\"Mango\",\"Cherry\"}\n",
    "\n",
    "\n",
    "set1.intersection_update(set2)\n",
    "print(set1)\n",
    "\n"
   ]
  },
  {
   "cell_type": "code",
   "execution_count": 70,
   "id": "d68a56fb",
   "metadata": {},
   "outputs": [
    {
     "name": "stdout",
     "output_type": "stream",
     "text": [
      "{'Gooogle', 'Banana', 'Cherry', 'Microsoft'}\n"
     ]
    }
   ],
   "source": [
    "# The symmetric_difference_update() method will keep only the elements that are NOT present in both sets.\n",
    "set1 = {\"Apple\",\"Banana\",\"Cherry\"}\n",
    "set2  = {\"Apple\",\"Gooogle\",\"Microsoft\"}\n",
    "set1.symmetric_difference_update(set2)\n",
    "print(set1)"
   ]
  },
  {
   "cell_type": "markdown",
   "id": "611f9005",
   "metadata": {},
   "source": [
    "# tuple()"
   ]
  },
  {
   "cell_type": "code",
   "execution_count": 71,
   "id": "bb131781",
   "metadata": {},
   "outputs": [
    {
     "name": "stdout",
     "output_type": "stream",
     "text": [
      "<class 'tuple'>\n"
     ]
    }
   ],
   "source": [
    "data = (\"Apple\",\"Banana\",\"Cherry\",1, 3, 5)\n",
    "print(type(data))"
   ]
  },
  {
   "cell_type": "code",
   "execution_count": 86,
   "id": "dfdd0f84",
   "metadata": {},
   "outputs": [
    {
     "name": "stdout",
     "output_type": "stream",
     "text": [
      "Python\n",
      "('Python', 11, 12, 'Ab', 'Bc', True, 17, 18)\n",
      "('Ab', 'Bc', True)\n",
      "('Python', 11, 12, 'Ab', 'Bc', True, 17)\n",
      "('Python', 11, 12, 'Ab', 'Bc')\n"
     ]
    }
   ],
   "source": [
    "#access\n",
    "data = (\"Python\", 11, 12,\"Ab\",\"Bc\", True, 17, 18)\n",
    "print(data[0])\n",
    "print(data[0:])\n",
    "print(data[3:6])\n",
    "print(data[:-1:])\n",
    "print(data[:-3])"
   ]
  },
  {
   "cell_type": "code",
   "execution_count": 97,
   "id": "6f53de8d",
   "metadata": {},
   "outputs": [
    {
     "name": "stdout",
     "output_type": "stream",
     "text": [
      "<class 'tuple'>\n",
      "<class 'list'>\n",
      "<class 'tuple'>\n",
      "<class 'list'>\n"
     ]
    }
   ],
   "source": [
    "#typecasting\n",
    "tuple_1 = (\"Apple\",\"Banana\",\"Cherry\")\n",
    "print(type(tuple_1))\n",
    "tuple_2 = [\"Apple\",\"Banana\",\"Cherry\"]\n",
    "print(type(tuple_2))\n",
    "new_tuple = tuple(tuple_1)\n",
    "print(type(new_tuple))\n",
    "new_list = list(tuple_2)\n",
    "print(type(new_list))"
   ]
  },
  {
   "cell_type": "code",
   "execution_count": 101,
   "id": "fd1c9dac",
   "metadata": {},
   "outputs": [
    {
     "name": "stdout",
     "output_type": "stream",
     "text": [
      "<class 'tuple'>\n",
      "<class 'list'>\n",
      "('Apple', 'Kiwi', 'Cherry')\n"
     ]
    }
   ],
   "source": [
    "tuple1 = (\"Apple\", \"Banana\", \"Cherry\")\n",
    "print(type(tuple1))\n",
    "tuple2 = list(tuple1)\n",
    "print(type(tuple2))\n",
    "tuple2[1] = \"Kiwi\"\n",
    "tuple1 = tuple(tuple2)\n",
    "print(tuple1)"
   ]
  },
  {
   "cell_type": "markdown",
   "id": "483fcb58",
   "metadata": {},
   "source": [
    "# add items in tuple()\n"
   ]
  },
  {
   "cell_type": "code",
   "execution_count": 109,
   "id": "cf3936ff",
   "metadata": {},
   "outputs": [
    {
     "name": "stdout",
     "output_type": "stream",
     "text": [
      "('Apple', 'Banana', 'Cherry', 'orange')\n"
     ]
    }
   ],
   "source": [
    "a = (\"Apple\",\"Banana\",\"Cherry\")\n",
    "b = list(a)\n",
    "b.append(\"orange\")\n",
    "a = tuple(b)\n",
    "print(a)"
   ]
  },
  {
   "cell_type": "code",
   "execution_count": null,
   "id": "199fd37f",
   "metadata": {},
   "outputs": [],
   "source": []
  }
 ],
 "metadata": {
  "kernelspec": {
   "display_name": "Python 3 (ipykernel)",
   "language": "python",
   "name": "python3"
  },
  "language_info": {
   "codemirror_mode": {
    "name": "ipython",
    "version": 3
   },
   "file_extension": ".py",
   "mimetype": "text/x-python",
   "name": "python",
   "nbconvert_exporter": "python",
   "pygments_lexer": "ipython3",
   "version": "3.11.5"
  }
 },
 "nbformat": 4,
 "nbformat_minor": 5
}
